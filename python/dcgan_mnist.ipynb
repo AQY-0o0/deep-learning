{
 "cells": [
  {
   "cell_type": "markdown",
   "metadata": {},
   "source": [
    "# Deep Convolutional GAN (DCGAN) with MNIST\n",
    "\n",
    "This is a follow-up on [gan_mnist.ipynb](gan_mnist.ipynb).  It uses deep convolutional networks in the generator and the discriminator."
   ]
  },
  {
   "cell_type": "code",
   "execution_count": 1,
   "metadata": {},
   "outputs": [
    {
     "name": "stderr",
     "output_type": "stream",
     "text": [
      "Using TensorFlow backend.\n"
     ]
    }
   ],
   "source": [
    "import numpy as np\n",
    "from scipy.io import loadmat\n",
    "import keras\n",
    "import keras.backend as K\n",
    "from keras.layers import Dense, Activation, LeakyReLU, BatchNormalization\n",
    "from keras.layers import Conv2D, Conv2DTranspose, Reshape, Flatten\n",
    "from keras.models import Sequential\n",
    "from keras.optimizers import Adam\n",
    "from sklearn.model_selection import train_test_split\n",
    "import matplotlib.pyplot as plt\n",
    "%matplotlib inline"
   ]
  },
  {
   "cell_type": "markdown",
   "metadata": {},
   "source": [
    "## Loading MNIST Dataset"
   ]
  },
  {
   "cell_type": "code",
   "execution_count": 2,
   "metadata": {
    "collapsed": true
   },
   "outputs": [],
   "source": [
    "(X_train, y_train), (X_test, y_test) = keras.datasets.mnist.load_data()"
   ]
  },
  {
   "cell_type": "markdown",
   "metadata": {},
   "source": [
    "We only use the images not the categorical labels."
   ]
  },
  {
   "cell_type": "code",
   "execution_count": 3,
   "metadata": {},
   "outputs": [
    {
     "data": {
      "image/png": "[encoded data removed]",
      "text/plain": [
       "<matplotlib.figure.Figure at 0x7f3379da96d8>"
      ]
     },
     "metadata": {},
     "output_type": "display_data"
    }
   ],
   "source": [
    "plt.figure(figsize=(5, 4))\n",
    "for i in range(20):\n",
    "    plt.subplot(4, 5, i+1)\n",
    "    plt.imshow(X_train[i], cmap='gray')\n",
    "    plt.xticks([])\n",
    "    plt.yticks([])\n",
    "plt.tight_layout()\n",
    "plt.show()"
   ]
  },
  {
   "cell_type": "markdown",
   "metadata": {},
   "source": [
    "## Preprocessing and Deprocessing\n",
    "\n",
    "As usual, we need preprocessing and later deprocessing of the images.  \n",
    "\n",
    "As we will see later on, the generator is using `tanh` activation, for which we need to preprocess the image data into the range between -1 and 1."
   ]
  },
  {
   "cell_type": "code",
   "execution_count": 4,
   "metadata": {
    "collapsed": true
   },
   "outputs": [],
   "source": [
    "def preprocess(x):    \n",
    "    x = x.reshape(-1, 28, 28, 1) # 28,28,1\n",
    "    x = np.float64(x)\n",
    "    x = (x / 255 - 0.5) * 2\n",
    "    x = np.clip(x, -1, 1)\n",
    "    return x\n",
    "\n",
    "def deprocess(x):\n",
    "    x = (x / 2 + 1) * 255\n",
    "    x = np.clip(x, 0, 255)\n",
    "    x = np.uint8(x)\n",
    "    x = x.reshape(28, 28)\n",
    "    return x"
   ]
  },
  {
   "cell_type": "markdown",
   "metadata": {},
   "source": [
    "Apply the preprocessing on the train and test images (and they are the real images as oppose to the generated images)."
   ]
  },
  {
   "cell_type": "code",
   "execution_count": 5,
   "metadata": {
    "collapsed": true
   },
   "outputs": [],
   "source": [
    "X_train_real = preprocess(X_train)\n",
    "X_test_real  = preprocess(X_test)"
   ]
  },
  {
   "cell_type": "markdown",
   "metadata": {},
   "source": [
    "## Generator\n",
    "\n",
    "The original DCGAN paper [[3]](#ref3) proposes the following generator network architecture.\n",
    "\n",
    "<img src='../images/dcgan_svhn/generator.png' width='70%'>\n",
    "\n",
    "In this notebook, I used smaller networks than what the original paper [[3]](#ref3) uses.\n",
    "\n",
    "It takes a latent sample of 100 random numbers and generates a 28x28 image with 1 channel.\n",
    "\n",
    "In [gan_mnist.ipynb](gan_mnist.ipynb), I used a fully connected layer with 784 (=28x28) neurons.  To make this generator comparable, I use the same number of neurons in the first fully connected hidden layer, and then added transpose convolution layers afterwards."
   ]
  },
  {
   "cell_type": "code",
   "execution_count": 6,
   "metadata": {
    "collapsed": true
   },
   "outputs": [],
   "source": [
    "def make_generator(input_size, leaky_alpha):\n",
    "    # generates images in (28,28,1)\n",
    "    return Sequential([\n",
    "        Dense(784, input_shape=(input_size,)),\n",
    "        Reshape(target_shape=(7, 7, 16)),                              # 7,7,16\n",
    "        BatchNormalization(),\n",
    "        LeakyReLU(alpha=leaky_alpha),\n",
    "        Conv2DTranspose(32, kernel_size=5, strides=2, padding='same'), # 14,14,32\n",
    "        BatchNormalization(),\n",
    "        LeakyReLU(alpha=leaky_alpha),\n",
    "        Conv2DTranspose(1, kernel_size=5, strides=2, padding='same'),  # 28,28,1\n",
    "        Activation('tanh')\n",
    "    ])"
   ]
  },
  {
   "cell_type": "markdown",
   "metadata": {},
   "source": [
    "## Discriminator\n"
   ]
  },
  {
   "cell_type": "markdown",
   "metadata": {},
   "source": [
    "The discriminator is a classifier to tell if the input image is real or fake.  \n",
    "\n",
    "It is a convolutional neural network that takes a 28x28 image with 1 channel.  The values in the image is expected to be between -1 and 1.\n",
    "\n",
    "The activation of the output layer is `sigmoid` and the discriminator outputs a probability of the image being real.\n",
    "\n",
    "In [gan_mnist.ipynb](gan_mnist.ipynb), I used a fully connected layer with 784 (=28x28) neurons.  To make this discriminator comparable, I use the same number of neurons in the last fully connected hidden layer, and then added convolution layers beforehands.\n",
    "\n",
    "Note: using the decreasing number of filters may be a bit unusual but I did this to make the discriminator network and the generator network to have same kind of increase in the number of convolutional network neurons."
   ]
  },
  {
   "cell_type": "code",
   "execution_count": 7,
   "metadata": {
    "collapsed": true
   },
   "outputs": [],
   "source": [
    "def make_discriminator(leaky_alpha):\n",
    "    # classifies images in (28,28,1)\n",
    "    return Sequential([        \n",
    "        Conv2D(32, kernel_size=5, strides=2, padding='same',    # 14,14,32\n",
    "               input_shape=(28,28,1)),\n",
    "        BatchNormalization(),\n",
    "        LeakyReLU(alpha=leaky_alpha),\n",
    "        Conv2D(16, kernel_size=5, strides=2, padding='same'),   # 7,7,16\n",
    "        BatchNormalization(),\n",
    "        LeakyReLU(alpha=leaky_alpha),\n",
    "        Flatten(),\n",
    "        Dense(784),\n",
    "        BatchNormalization(),\n",
    "        LeakyReLU(alpha=leaky_alpha),\n",
    "        Dense(1),\n",
    "        Activation('sigmoid')        \n",
    "    ])"
   ]
  },
  {
   "cell_type": "markdown",
   "metadata": {},
   "source": [
    "## DCGAN\n",
    "\n",
    "We connect the generator and the discriminator to make a DCGAN.\n",
    "\n",
    "The input to the DCGAN is a latent sample.  The generator inside DCGAN produces an image which is fed into the discriminator inside the DCGAN.  So, the output of DCGAN is the probability of the generated image being real."
   ]
  },
  {
   "cell_type": "code",
   "execution_count": 8,
   "metadata": {
    "collapsed": true
   },
   "outputs": [],
   "source": [
    "# beta_1 is the exponential decay rate for the 1st moment estimates in Adam optimizer\n",
    "def make_DCGAN(sample_size, \n",
    "               g_learning_rate, \n",
    "               d_learning_rate,\n",
    "               leaky_alpha):\n",
    "    # generator\n",
    "    generator = make_generator(sample_size, leaky_alpha)\n",
    "\n",
    "    # discriminator\n",
    "    discriminator = make_discriminator(leaky_alpha)\n",
    "    discriminator.compile(optimizer=Adam(lr=d_learning_rate), loss='binary_crossentropy')\n",
    "    \n",
    "    # GAN\n",
    "    gan = Sequential([generator, discriminator])\n",
    "    gan.compile(optimizer=Adam(lr=g_learning_rate), loss='binary_crossentropy')\n",
    "    \n",
    "    return gan, generator, discriminator"
   ]
  },
  {
   "cell_type": "markdown",
   "metadata": {},
   "source": [
    "## Training DCGAN\n",
    "\n",
    "The below is a function to generate latent samples."
   ]
  },
  {
   "cell_type": "code",
   "execution_count": 9,
   "metadata": {
    "collapsed": true
   },
   "outputs": [],
   "source": [
    "def make_latent_samples(n_samples, sample_size):\n",
    "    #return np.random.uniform(-1, 1, size=(n_samples, sample_size))\n",
    "    return np.random.normal(loc=0, scale=1, size=(n_samples, sample_size))"
   ]
  },
  {
   "cell_type": "markdown",
   "metadata": {},
   "source": [
    "The below is a function to set the discriminator to trainable or non-trainable."
   ]
  },
  {
   "cell_type": "code",
   "execution_count": 10,
   "metadata": {
    "collapsed": true
   },
   "outputs": [],
   "source": [
    "def make_trainable(model, trainable):\n",
    "    for layer in model.layers:\n",
    "        layer.trainable = trainable"
   ]
  },
  {
   "cell_type": "markdown",
   "metadata": {},
   "source": [
    "The below is a function to create a batch of labels."
   ]
  },
  {
   "cell_type": "code",
   "execution_count": 11,
   "metadata": {
    "collapsed": true
   },
   "outputs": [],
   "source": [
    "def make_labels(size):\n",
    "    return np.ones([size, 1]), np.zeros([size, 1])"
   ]
  },
  {
   "cell_type": "markdown",
   "metadata": {},
   "source": [
    "The training DCGAN is essentially the same as training a simple GAN in [gan_mnist.ipynb](gan_mnist.ipynb).\n",
    "\n",
    "* set the discriminator trainable\n",
    "* train the discriminator with real images with the label smoothing   (labels=1-smooth)\n",
    "* train the discriminator with fake images generated by the generator (labels=0)\n",
    "* set the discriminator non-trainable\n",
    "* train the DCGAN with generated images (labels=1)\n",
    "\n",
    "We repeat this process many times until the discriminator loss and the generator loss stabilizes."
   ]
  },
  {
   "cell_type": "code",
   "execution_count": 12,
   "metadata": {},
   "outputs": [
    {
     "name": "stdout",
     "output_type": "stream",
     "text": [
      "Epoch:   1/100 Discriminator Loss: 0.7480 Generator Loss: 0.7081\n",
      "Epoch:   2/100 Discriminator Loss: 0.4375 Generator Loss: 1.5636\n",
      "Epoch:   3/100 Discriminator Loss: 1.6333 Generator Loss: 0.7649\n",
      "Epoch:   4/100 Discriminator Loss: 0.3112 Generator Loss: 2.1336\n",
      "Epoch:   5/100 Discriminator Loss: 0.1428 Generator Loss: 2.5339\n",
      "Epoch:   6/100 Discriminator Loss: 0.0298 Generator Loss: 4.4627\n",
      "Epoch:   7/100 Discriminator Loss: 0.2137 Generator Loss: 2.1831\n",
      "Epoch:   8/100 Discriminator Loss: 0.0929 Generator Loss: 3.2109\n",
      "Epoch:   9/100 Discriminator Loss: 0.9815 Generator Loss: 1.1228\n",
      "Epoch:  10/100 Discriminator Loss: 0.1595 Generator Loss: 2.5659\n",
      "Epoch:  11/100 Discriminator Loss: 0.2641 Generator Loss: 2.3237\n",
      "Epoch:  12/100 Discriminator Loss: 0.3336 Generator Loss: 2.9174\n",
      "Epoch:  13/100 Discriminator Loss: 0.4729 Generator Loss: 1.6271\n",
      "Epoch:  14/100 Discriminator Loss: 1.7452 Generator Loss: 1.5189\n",
      "Epoch:  15/100 Discriminator Loss: 0.4209 Generator Loss: 2.3218\n",
      "Epoch:  16/100 Discriminator Loss: 2.9504 Generator Loss: 0.2932\n",
      "Epoch:  17/100 Discriminator Loss: 0.1993 Generator Loss: 6.1078\n",
      "Epoch:  18/100 Discriminator Loss: 0.3168 Generator Loss: 2.1271\n",
      "Epoch:  19/100 Discriminator Loss: 0.6262 Generator Loss: 2.2519\n",
      "Epoch:  20/100 Discriminator Loss: 0.0686 Generator Loss: 6.8502\n",
      "Epoch:  21/100 Discriminator Loss: 0.7073 Generator Loss: 1.8770\n",
      "Epoch:  22/100 Discriminator Loss: 0.0183 Generator Loss: 9.1985\n",
      "Epoch:  23/100 Discriminator Loss: 0.0741 Generator Loss: 6.4015\n",
      "Epoch:  24/100 Discriminator Loss: 0.6605 Generator Loss: 1.1135\n",
      "Epoch:  25/100 Discriminator Loss: 0.2289 Generator Loss: 3.7575\n",
      "Epoch:  26/100 Discriminator Loss: 0.0219 Generator Loss: 6.5288\n",
      "Epoch:  27/100 Discriminator Loss: 0.0005 Generator Loss: 8.7593\n",
      "Epoch:  28/100 Discriminator Loss: 0.1073 Generator Loss: 5.3304\n",
      "Epoch:  29/100 Discriminator Loss: 0.0004 Generator Loss: 12.4359\n",
      "Epoch:  30/100 Discriminator Loss: 0.0208 Generator Loss: 5.0652\n",
      "Epoch:  31/100 Discriminator Loss: 0.0005 Generator Loss: 11.3867\n",
      "Epoch:  32/100 Discriminator Loss: 0.0125 Generator Loss: 5.7742\n",
      "Epoch:  33/100 Discriminator Loss: 0.1059 Generator Loss: 3.8978\n",
      "Epoch:  34/100 Discriminator Loss: 0.0800 Generator Loss: 3.3032\n",
      "Epoch:  35/100 Discriminator Loss: 0.0211 Generator Loss: 6.0915\n",
      "Epoch:  36/100 Discriminator Loss: 0.0025 Generator Loss: 10.3966\n",
      "Epoch:  37/100 Discriminator Loss: 0.0494 Generator Loss: 4.2924\n",
      "Epoch:  38/100 Discriminator Loss: 0.0475 Generator Loss: 4.5400\n",
      "Epoch:  39/100 Discriminator Loss: 0.0481 Generator Loss: 4.4096\n",
      "Epoch:  40/100 Discriminator Loss: 0.1097 Generator Loss: 3.3564\n",
      "Epoch:  41/100 Discriminator Loss: 0.0006 Generator Loss: 11.1923\n",
      "Epoch:  42/100 Discriminator Loss: 0.0043 Generator Loss: 7.9688\n",
      "Epoch:  43/100 Discriminator Loss: 0.1251 Generator Loss: 10.1013\n",
      "Epoch:  44/100 Discriminator Loss: 0.1109 Generator Loss: 2.6450\n",
      "Epoch:  45/100 Discriminator Loss: 0.0573 Generator Loss: 4.3389\n",
      "Epoch:  46/100 Discriminator Loss: 0.1047 Generator Loss: 2.7580\n",
      "Epoch:  47/100 Discriminator Loss: 0.1627 Generator Loss: 2.7435\n",
      "Epoch:  48/100 Discriminator Loss: 0.0000 Generator Loss: 14.1789\n",
      "Epoch:  49/100 Discriminator Loss: 0.0654 Generator Loss: 3.5379\n",
      "Epoch:  50/100 Discriminator Loss: 0.0967 Generator Loss: 3.2707\n",
      "Epoch:  51/100 Discriminator Loss: 0.0171 Generator Loss: 5.7398\n",
      "Epoch:  52/100 Discriminator Loss: 0.0398 Generator Loss: 8.6440\n",
      "Epoch:  53/100 Discriminator Loss: 0.0096 Generator Loss: 6.2197\n",
      "Epoch:  54/100 Discriminator Loss: 0.0009 Generator Loss: 10.6890\n",
      "Epoch:  55/100 Discriminator Loss: 0.0866 Generator Loss: 3.2248\n",
      "Epoch:  56/100 Discriminator Loss: 0.0310 Generator Loss: 12.1259\n",
      "Epoch:  57/100 Discriminator Loss: 0.0805 Generator Loss: 3.1468\n",
      "Epoch:  58/100 Discriminator Loss: 0.0265 Generator Loss: 5.9097\n",
      "Epoch:  59/100 Discriminator Loss: 0.4754 Generator Loss: 1.4572\n",
      "Epoch:  60/100 Discriminator Loss: 0.0387 Generator Loss: 4.1741\n",
      "Epoch:  61/100 Discriminator Loss: 0.0245 Generator Loss: 8.5710\n",
      "Epoch:  62/100 Discriminator Loss: 0.0014 Generator Loss: 11.6125\n",
      "Epoch:  63/100 Discriminator Loss: 0.1090 Generator Loss: 3.3451\n",
      "Epoch:  64/100 Discriminator Loss: 0.0718 Generator Loss: 3.8955\n",
      "Epoch:  65/100 Discriminator Loss: 0.0558 Generator Loss: 5.8615\n",
      "Epoch:  66/100 Discriminator Loss: 0.2210 Generator Loss: 3.1633\n",
      "Epoch:  67/100 Discriminator Loss: 0.1568 Generator Loss: 4.3763\n",
      "Epoch:  68/100 Discriminator Loss: 0.1064 Generator Loss: 3.3817\n",
      "Epoch:  69/100 Discriminator Loss: 0.1515 Generator Loss: 3.0083\n",
      "Epoch:  70/100 Discriminator Loss: 0.2300 Generator Loss: 2.7282\n",
      "Epoch:  71/100 Discriminator Loss: 0.0642 Generator Loss: 5.0007\n",
      "Epoch:  72/100 Discriminator Loss: 0.0068 Generator Loss: 7.3867\n",
      "Epoch:  73/100 Discriminator Loss: 0.1928 Generator Loss: 4.0925\n",
      "Epoch:  74/100 Discriminator Loss: 0.0213 Generator Loss: 6.9876\n",
      "Epoch:  75/100 Discriminator Loss: 0.2390 Generator Loss: 2.3166\n",
      "Epoch:  76/100 Discriminator Loss: 0.0268 Generator Loss: 6.1807\n",
      "Epoch:  77/100 Discriminator Loss: 0.0732 Generator Loss: 4.3888\n",
      "Epoch:  78/100 Discriminator Loss: 0.1401 Generator Loss: 2.5570\n",
      "Epoch:  79/100 Discriminator Loss: 0.0949 Generator Loss: 3.9904\n",
      "Epoch:  80/100 Discriminator Loss: 0.0983 Generator Loss: 3.8582\n",
      "Epoch:  81/100 Discriminator Loss: 0.0717 Generator Loss: 5.5423\n",
      "Epoch:  82/100 Discriminator Loss: 0.3244 Generator Loss: 1.6087\n",
      "Epoch:  83/100 Discriminator Loss: 0.0993 Generator Loss: 3.4987\n",
      "Epoch:  84/100 Discriminator Loss: 0.0110 Generator Loss: 4.8299\n",
      "Epoch:  85/100 Discriminator Loss: 0.0509 Generator Loss: 3.7934\n",
      "Epoch:  86/100 Discriminator Loss: 0.0792 Generator Loss: 3.9834\n",
      "Epoch:  87/100 Discriminator Loss: 0.0819 Generator Loss: 4.9036\n",
      "Epoch:  88/100 Discriminator Loss: 0.0651 Generator Loss: 3.6435\n",
      "Epoch:  89/100 Discriminator Loss: 0.0176 Generator Loss: 5.7225\n",
      "Epoch:  90/100 Discriminator Loss: 0.0683 Generator Loss: 3.9897\n",
      "Epoch:  91/100 Discriminator Loss: 0.0689 Generator Loss: 4.1797\n",
      "Epoch:  92/100 Discriminator Loss: 0.0803 Generator Loss: 4.0127\n",
      "Epoch:  93/100 Discriminator Loss: 0.0281 Generator Loss: 5.2059\n",
      "Epoch:  94/100 Discriminator Loss: 0.0548 Generator Loss: 4.5841\n",
      "Epoch:  95/100 Discriminator Loss: 0.0095 Generator Loss: 6.3755\n",
      "Epoch:  96/100 Discriminator Loss: 0.0258 Generator Loss: 5.4522\n",
      "Epoch:  97/100 Discriminator Loss: 0.3139 Generator Loss: 3.2883\n",
      "Epoch:  98/100 Discriminator Loss: 0.0434 Generator Loss: 5.7201\n",
      "Epoch:  99/100 Discriminator Loss: 0.1549 Generator Loss: 3.4591\n",
      "Epoch: 100/100 Discriminator Loss: 0.1304 Generator Loss: 3.7179\n"
     ]
    }
   ],
   "source": [
    "sample_size     = 100     # latent sample size (i.e. 100 random numbers)\n",
    "g_learning_rate = 0.0001  # learning rate for the generator\n",
    "d_learning_rate = 0.001   # learning rate for the discriminator\n",
    "leaky_alpha     = 0.01\n",
    "epochs          = 100\n",
    "batch_size      = 64      # train batch size\n",
    "eval_size       = 16      # evaluate size\n",
    "smooth          = 0.1\n",
    "\n",
    "# labels for the batch size and the test size\n",
    "y_train_real, y_train_fake = make_labels(batch_size)\n",
    "y_eval_real,  y_eval_fake  = make_labels(eval_size)\n",
    "\n",
    "# create a GAN, a generator and a discriminator\n",
    "gan, generator, discriminator = make_DCGAN(\n",
    "    sample_size, \n",
    "    g_learning_rate, \n",
    "    d_learning_rate,\n",
    "    leaky_alpha)\n",
    "\n",
    "losses = []\n",
    "for e in range(epochs):\n",
    "    for i in range(len(X_train_real)//batch_size):\n",
    "        # real MNIST digit images\n",
    "        X_batch_real = X_train_real[i*batch_size:(i+1)*batch_size]\n",
    "        \n",
    "        # latent samples and the generated digit images\n",
    "        latent_samples = make_latent_samples(batch_size, sample_size)\n",
    "        X_batch_fake = generator.predict_on_batch(latent_samples)\n",
    "        \n",
    "        # train the discriminator to detect real and fake images\n",
    "        make_trainable(discriminator, True)\n",
    "        discriminator.train_on_batch(X_batch_real, y_train_real * (1 - smooth))\n",
    "        discriminator.train_on_batch(X_batch_fake, y_train_fake)\n",
    "\n",
    "        # train the generator via GAN\n",
    "        make_trainable(discriminator, False)\n",
    "        gan.train_on_batch(latent_samples, y_train_real)\n",
    "    \n",
    "    # evaluate\n",
    "    X_eval_real = X_test_real[np.random.choice(len(X_test_real), eval_size, replace=False)]\n",
    "    \n",
    "    latent_samples = make_latent_samples(eval_size, sample_size)\n",
    "    X_eval_fake = generator.predict_on_batch(latent_samples)\n",
    "\n",
    "    d_loss = discriminator.test_on_batch(X_eval_real, y_eval_real)\n",
    "    d_loss = discriminator.test_on_batch(X_eval_fake, y_eval_fake)\n",
    "    g_loss = gan.test_on_batch(latent_samples, y_eval_real) # we want the fake to be realistic!\n",
    "    \n",
    "    losses.append((d_loss, g_loss))\n",
    "    \n",
    "    print(\"Epoch: {:>3}/{} Discriminator Loss: {:>6.4f} Generator Loss: {:>6.4f}\".format(\n",
    "        e+1, epochs, d_loss, g_loss))    "
   ]
  },
  {
   "cell_type": "markdown",
   "metadata": {},
   "source": [
    "## Results\n",
    "\n",
    "The discriminator loss and the generator loss are shown below.  They both kind of stabilizes in the end."
   ]
  },
  {
   "cell_type": "code",
   "execution_count": 13,
   "metadata": {},
   "outputs": [
    {
     "data": {
      "image/png": "[encoded data removed]",
      "text/plain": [
       "<matplotlib.figure.Figure at 0x7f3372e5cc88>"
      ]
     },
     "metadata": {},
     "output_type": "display_data"
    }
   ],
   "source": [
    "losses = np.array(losses)\n",
    "\n",
    "fig, ax = plt.subplots()\n",
    "plt.plot(losses.T[0], label='Discriminator')\n",
    "plt.plot(losses.T[1], label='Generator')\n",
    "plt.title(\"Training Losses\")\n",
    "plt.legend()\n",
    "plt.show()"
   ]
  },
  {
   "cell_type": "markdown",
   "metadata": {},
   "source": [
    "We can generate new images using the generator."
   ]
  },
  {
   "cell_type": "code",
   "execution_count": 14,
   "metadata": {},
   "outputs": [
    {
     "data": {
      "image/png": "[encoded data removed]",
      "text/plain": [
       "<matplotlib.figure.Figure at 0x7f33eb7d3b00>"
      ]
     },
     "metadata": {},
     "output_type": "display_data"
    }
   ],
   "source": [
    "latent_samples = make_latent_samples(20, sample_size)\n",
    "generated_digits = generator.predict(latent_samples)\n",
    "\n",
    "plt.figure(figsize=(10, 8))\n",
    "for i in range(20):\n",
    "    img = deprocess(generated_digits[i])\n",
    "    plt.subplot(4, 5, i+1)\n",
    "    plt.imshow(img, cmap='gray')\n",
    "    plt.xticks([])\n",
    "    plt.yticks([])\n",
    "plt.tight_layout()\n",
    "plt.show()"
   ]
  },
  {
   "cell_type": "markdown",
   "metadata": {},
   "source": [
    "## References\n",
    "\n",
    "<a id=\"ref1\"></a>\n",
    "### [1] MNIST dataset\n",
    " \n",
    "Yann LeCun\n",
    " \n",
    "http://yann.lecun.com/exdb/mnist/\n",
    "\n",
    "<a id=\"ref2\"></a>\n",
    "### [2] Deep Convolutional GANs\n",
    "\n",
    "Udacity\n",
    "\n",
    "https://github.com/udacity/deep-learning/blob/master/dcgan-svhn/DCGAN.ipynb\n",
    "\n",
    "<a id=\"ref3\"></a>\n",
    "### [3] Unsupervised Representation Learning with Deep Convolutional Generative Adversarial Networks\n",
    "\n",
    "Alec Radford & Luke Metz (indico Research), Soumith Chintala (Facebook AI Research)\n",
    "\n",
    "https://arxiv.org/pdf/1511.06434.pdf"
   ]
  }
 ],
 "metadata": {
  "kernelspec": {
   "display_name": "Python 3",
   "language": "python",
   "name": "python3"
  },
  "language_info": {
   "codemirror_mode": {
    "name": "ipython",
    "version": 3
   },
   "file_extension": ".py",
   "mimetype": "text/x-python",
   "name": "python",
   "nbconvert_exporter": "python",
   "pygments_lexer": "ipython3",
   "version": "3.6.2"
  }
 },
 "nbformat": 4,
 "nbformat_minor": 2
}
