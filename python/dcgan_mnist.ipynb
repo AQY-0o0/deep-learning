{
 "cells": [
  {
   "cell_type": "markdown",
   "metadata": {},
   "source": [
    "# Deep Convolutional GAN (DCGAN) with MNIST\n",
    "\n",
    "This is a follow-up on [gan_mnist.ipynb](gan_mnist.ipynb).  It uses deep convolutional networks in the generator and the discriminator."
   ]
  },
  {
   "cell_type": "code",
   "execution_count": 1,
   "metadata": {},
   "outputs": [
    {
     "name": "stderr",
     "output_type": "stream",
     "text": [
      "Using TensorFlow backend.\n"
     ]
    }
   ],
   "source": [
    "import numpy as np\n",
    "from scipy.io import loadmat\n",
    "import keras\n",
    "import keras.backend as K\n",
    "from keras.layers import Dense, Activation, LeakyReLU, BatchNormalization\n",
    "from keras.layers import Conv2D, Conv2DTranspose, Reshape, Flatten\n",
    "from keras.models import Sequential\n",
    "from keras.optimizers import Adam\n",
    "from sklearn.model_selection import train_test_split\n",
    "import matplotlib.pyplot as plt\n",
    "%matplotlib inline"
   ]
  },
  {
   "cell_type": "markdown",
   "metadata": {},
   "source": [
    "## Loading MNIST Dataset"
   ]
  },
  {
   "cell_type": "code",
   "execution_count": 2,
   "metadata": {
    "collapsed": true
   },
   "outputs": [],
   "source": [
    "(X_train, y_train), (X_test, y_test) = keras.datasets.mnist.load_data()"
   ]
  },
  {
   "cell_type": "markdown",
   "metadata": {},
   "source": [
    "We only use the images not the categorical labels."
   ]
  },
  {
   "cell_type": "code",
   "execution_count": 3,
   "metadata": {},
   "outputs": [
    {
     "data": {
      "image/png": "[encoded data removed]",
      "text/plain": [
       "<matplotlib.figure.Figure at 0x7f54ddde9668>"
      ]
     },
     "metadata": {},
     "output_type": "display_data"
    }
   ],
   "source": [
    "plt.figure(figsize=(5, 4))\n",
    "for i in range(20):\n",
    "    plt.subplot(4, 5, i+1)\n",
    "    plt.imshow(X_train[i], cmap='gray')\n",
    "    plt.xticks([])\n",
    "    plt.yticks([])\n",
    "plt.tight_layout()\n",
    "plt.show()"
   ]
  },
  {
   "cell_type": "markdown",
   "metadata": {},
   "source": [
    "## Preprocessing and Deprocessing\n",
    "\n",
    "As usual, we need preprocessing and later deprocessing of the images.  \n",
    "\n",
    "As we will see later on, the generator is using `tanh` activation, for which we need to preprocess the image data into the range between -1 and 1."
   ]
  },
  {
   "cell_type": "code",
   "execution_count": 4,
   "metadata": {
    "collapsed": true
   },
   "outputs": [],
   "source": [
    "def preprocess(x):    \n",
    "    x = x.reshape(-1, 28, 28, 1) # 28,28,1\n",
    "    x = np.float64(x)\n",
    "    x = (x / 255 - 0.5) * 2\n",
    "    x = np.clip(x, -1, 1)\n",
    "    return x\n",
    "\n",
    "def deprocess(x):\n",
    "    x = (x / 2 + 1) * 255\n",
    "    x = np.clip(x, 0, 255)\n",
    "    x = np.uint8(x)\n",
    "    x = x.reshape(28, 28)\n",
    "    return x"
   ]
  },
  {
   "cell_type": "markdown",
   "metadata": {},
   "source": [
    "Apply the preprocessing on the train and test images (and they are the real images as oppose to the generated images)."
   ]
  },
  {
   "cell_type": "code",
   "execution_count": 5,
   "metadata": {
    "collapsed": true
   },
   "outputs": [],
   "source": [
    "X_train_real = preprocess(X_train)\n",
    "X_test_real  = preprocess(X_test)"
   ]
  },
  {
   "cell_type": "markdown",
   "metadata": {},
   "source": [
    "## Generator\n",
    "\n",
    "The original DCGAN paper [[3]](#ref3) proposes the following generator network architecture.\n",
    "\n",
    "<img src='../images/dcgan_svhn/generator.png' width='70%'>\n",
    "\n",
    "In this notebook, I used smaller networks than what the original paper [[3]](#ref3) uses.\n",
    "\n",
    "It takes a latent sample of 100 random numbers and generates a 28x28 image with 1 channel.\n",
    "\n",
    "In [gan_mnist.ipynb](gan_mnist.ipynb), I used a fully connected layer with 784 (=28x28) neurons.  To make this generator comparable, I use the same number of neurons in the first fully connected hidden layer, and then added transpose convolution layers afterwards."
   ]
  },
  {
   "cell_type": "code",
   "execution_count": 6,
   "metadata": {
    "collapsed": true
   },
   "outputs": [],
   "source": [
    "def make_generator(input_size, leaky_alpha):\n",
    "    # generates images in (28,28,1)\n",
    "    return Sequential([\n",
    "        Dense(784, input_shape=(input_size,)),\n",
    "        Reshape(target_shape=(7, 7, 16)),                              # 7,7,16\n",
    "        BatchNormalization(),\n",
    "        LeakyReLU(alpha=leaky_alpha),\n",
    "        Conv2DTranspose(32, kernel_size=5, strides=2, padding='same'), # 14,14,32\n",
    "        BatchNormalization(),\n",
    "        LeakyReLU(alpha=leaky_alpha),\n",
    "        Conv2DTranspose(1, kernel_size=5, strides=2, padding='same'),  # 28,28,1\n",
    "        Activation('tanh')\n",
    "    ])"
   ]
  },
  {
   "cell_type": "markdown",
   "metadata": {},
   "source": [
    "## Discriminator\n"
   ]
  },
  {
   "cell_type": "markdown",
   "metadata": {},
   "source": [
    "The discriminator is a classifier to tell if the input image is real or fake.  \n",
    "\n",
    "It is a convolutional neural network that takes a 28x28 image with 1 channel.  The values in the image is expected to be between -1 and 1.\n",
    "\n",
    "The activation of the output layer is `sigmoid` and the discriminator outputs a probability of the image being real.\n",
    "\n",
    "In [gan_mnist.ipynb](gan_mnist.ipynb), I used a fully connected layer with 784 (=28x28) neurons.  To make this discriminator comparable, I use the same number of neurons in the last fully connected hidden layer, and then added convolution layers beforehands.\n",
    "\n",
    "Note: using the decreasing number of filters may be a bit unusual but I did this to make the discriminator network and the generator network to have same kind of increase in the number of convolutional network neurons (hopefully keeping their power in balance)."
   ]
  },
  {
   "cell_type": "code",
   "execution_count": 7,
   "metadata": {
    "collapsed": true
   },
   "outputs": [],
   "source": [
    "def make_discriminator(leaky_alpha):\n",
    "    # classifies images in (28,28,1)\n",
    "    return Sequential([        \n",
    "        Conv2D(32, kernel_size=5, strides=2, padding='same',    # 14,14,32\n",
    "               input_shape=(28,28,1)),\n",
    "        LeakyReLU(alpha=leaky_alpha),\n",
    "        Conv2D(16, kernel_size=5, strides=2, padding='same'),   # 7,7,16\n",
    "        BatchNormalization(),\n",
    "        LeakyReLU(alpha=leaky_alpha),\n",
    "        Flatten(),\n",
    "        Dense(784),\n",
    "        BatchNormalization(),\n",
    "        LeakyReLU(alpha=leaky_alpha),\n",
    "        Dense(1),\n",
    "        Activation('sigmoid')        \n",
    "    ])"
   ]
  },
  {
   "cell_type": "markdown",
   "metadata": {},
   "source": [
    "### About Batch Normalization\n",
    "\n",
    "As for the batch normalization, it was applied to most of the layers but not all.  The below is a quote from the original DCGAN paper [[3]](#ref3).\n",
    "\n",
    "> Directly applying batchnorm to all layers, however, resulted in sample oscillation and model instability. This was avoided by not applying batchnorm to the generator output layer and the discriminator input layer.\n"
   ]
  },
  {
   "cell_type": "markdown",
   "metadata": {},
   "source": [
    "## DCGAN\n",
    "\n",
    "We connect the generator and the discriminator to make a DCGAN.\n",
    "\n",
    "The input to the DCGAN is a latent sample.  The generator inside DCGAN produces an image which is fed into the discriminator inside the DCGAN.  So, the output of DCGAN is the probability of the generated image being real."
   ]
  },
  {
   "cell_type": "code",
   "execution_count": 8,
   "metadata": {
    "collapsed": true
   },
   "outputs": [],
   "source": [
    "# beta_1 is the exponential decay rate for the 1st moment estimates in Adam optimizer\n",
    "def make_DCGAN(sample_size, \n",
    "               g_learning_rate, \n",
    "               d_learning_rate,\n",
    "               leaky_alpha):\n",
    "    # generator\n",
    "    generator = make_generator(sample_size, leaky_alpha)\n",
    "\n",
    "    # discriminator\n",
    "    discriminator = make_discriminator(leaky_alpha)\n",
    "    discriminator.compile(optimizer=Adam(lr=d_learning_rate), loss='binary_crossentropy')\n",
    "    \n",
    "    # GAN\n",
    "    gan = Sequential([generator, discriminator])\n",
    "    gan.compile(optimizer=Adam(lr=g_learning_rate), loss='binary_crossentropy')\n",
    "    \n",
    "    return gan, generator, discriminator"
   ]
  },
  {
   "cell_type": "markdown",
   "metadata": {},
   "source": [
    "## Training DCGAN\n",
    "\n",
    "The below is a function to generate latent samples."
   ]
  },
  {
   "cell_type": "code",
   "execution_count": 9,
   "metadata": {
    "collapsed": true
   },
   "outputs": [],
   "source": [
    "def make_latent_samples(n_samples, sample_size):\n",
    "    #return np.random.uniform(-1, 1, size=(n_samples, sample_size))\n",
    "    return np.random.normal(loc=0, scale=1, size=(n_samples, sample_size))"
   ]
  },
  {
   "cell_type": "markdown",
   "metadata": {},
   "source": [
    "The below is a function to set the discriminator to trainable or non-trainable."
   ]
  },
  {
   "cell_type": "code",
   "execution_count": 10,
   "metadata": {
    "collapsed": true
   },
   "outputs": [],
   "source": [
    "def make_trainable(model, trainable):\n",
    "    for layer in model.layers:\n",
    "        layer.trainable = trainable"
   ]
  },
  {
   "cell_type": "markdown",
   "metadata": {},
   "source": [
    "The below is a function to create a batch of labels."
   ]
  },
  {
   "cell_type": "code",
   "execution_count": 11,
   "metadata": {
    "collapsed": true
   },
   "outputs": [],
   "source": [
    "def make_labels(size):\n",
    "    return np.ones([size, 1]), np.zeros([size, 1])"
   ]
  },
  {
   "cell_type": "markdown",
   "metadata": {},
   "source": [
    "The training DCGAN is essentially the same as training a simple GAN in [gan_mnist.ipynb](gan_mnist.ipynb).\n",
    "\n",
    "* set the discriminator trainable\n",
    "* train the discriminator with real images with the label smoothing   (labels=1-smooth)\n",
    "* train the discriminator with fake images generated by the generator (labels=0)\n",
    "* set the discriminator non-trainable\n",
    "* train the DCGAN with generated images (labels=1)\n",
    "\n",
    "We repeat this process many times until the discriminator loss and the generator loss stabilizes."
   ]
  },
  {
   "cell_type": "code",
   "execution_count": 12,
   "metadata": {},
   "outputs": [
    {
     "name": "stdout",
     "output_type": "stream",
     "text": [
      "Epoch:   1/100 Discriminator Loss: 11.6143 Generator Loss: 0.0000\n",
      "Epoch:   2/100 Discriminator Loss: 0.0000 Generator Loss: 16.1181\n",
      "Epoch:   3/100 Discriminator Loss: 1.8352 Generator Loss: 1.3637\n",
      "Epoch:   4/100 Discriminator Loss: 0.0300 Generator Loss: 4.1540\n",
      "Epoch:   5/100 Discriminator Loss: 1.6232 Generator Loss: 0.6932\n",
      "Epoch:   6/100 Discriminator Loss: 0.5189 Generator Loss: 2.0193\n",
      "Epoch:   7/100 Discriminator Loss: 2.2409 Generator Loss: 0.7296\n",
      "Epoch:   8/100 Discriminator Loss: 0.5825 Generator Loss: 1.2084\n",
      "Epoch:   9/100 Discriminator Loss: 0.3731 Generator Loss: 1.6104\n",
      "Epoch:  10/100 Discriminator Loss: 0.2955 Generator Loss: 2.0071\n",
      "Epoch:  11/100 Discriminator Loss: 1.5005 Generator Loss: 0.3879\n",
      "Epoch:  12/100 Discriminator Loss: 0.0816 Generator Loss: 4.3175\n",
      "Epoch:  13/100 Discriminator Loss: 0.2482 Generator Loss: 2.3292\n",
      "Epoch:  14/100 Discriminator Loss: 0.2563 Generator Loss: 2.7583\n",
      "Epoch:  15/100 Discriminator Loss: 0.3222 Generator Loss: 1.9463\n",
      "Epoch:  16/100 Discriminator Loss: 0.0000 Generator Loss: 15.8344\n",
      "Epoch:  17/100 Discriminator Loss: 0.0181 Generator Loss: 5.0240\n",
      "Epoch:  18/100 Discriminator Loss: 0.1233 Generator Loss: 4.8289\n",
      "Epoch:  19/100 Discriminator Loss: 0.0897 Generator Loss: 3.0780\n",
      "Epoch:  20/100 Discriminator Loss: 0.1738 Generator Loss: 2.6402\n",
      "Epoch:  21/100 Discriminator Loss: 0.0810 Generator Loss: 3.2988\n",
      "Epoch:  22/100 Discriminator Loss: 0.1213 Generator Loss: 3.5731\n",
      "Epoch:  23/100 Discriminator Loss: 0.1975 Generator Loss: 2.3296\n",
      "Epoch:  24/100 Discriminator Loss: 0.0702 Generator Loss: 4.2162\n",
      "Epoch:  25/100 Discriminator Loss: 0.0376 Generator Loss: 4.1777\n",
      "Epoch:  26/100 Discriminator Loss: 0.0185 Generator Loss: 4.6339\n",
      "Epoch:  27/100 Discriminator Loss: 0.1124 Generator Loss: 3.1049\n",
      "Epoch:  28/100 Discriminator Loss: 0.0956 Generator Loss: 3.8983\n",
      "Epoch:  29/100 Discriminator Loss: 0.1696 Generator Loss: 2.9502\n",
      "Epoch:  30/100 Discriminator Loss: 0.2740 Generator Loss: 3.2030\n",
      "Epoch:  31/100 Discriminator Loss: 0.1688 Generator Loss: 3.1453\n",
      "Epoch:  32/100 Discriminator Loss: 0.3534 Generator Loss: 1.8470\n",
      "Epoch:  33/100 Discriminator Loss: 0.0072 Generator Loss: 7.6419\n",
      "Epoch:  34/100 Discriminator Loss: 0.0315 Generator Loss: 4.9415\n",
      "Epoch:  35/100 Discriminator Loss: 0.0949 Generator Loss: 7.8132\n",
      "Epoch:  36/100 Discriminator Loss: 0.6562 Generator Loss: 1.1626\n",
      "Epoch:  37/100 Discriminator Loss: 0.2336 Generator Loss: 2.8239\n",
      "Epoch:  38/100 Discriminator Loss: 0.0857 Generator Loss: 4.9253\n",
      "Epoch:  39/100 Discriminator Loss: 0.2844 Generator Loss: 1.8187\n",
      "Epoch:  40/100 Discriminator Loss: 0.2103 Generator Loss: 3.0734\n",
      "Epoch:  41/100 Discriminator Loss: 0.1111 Generator Loss: 2.8686\n",
      "Epoch:  42/100 Discriminator Loss: 0.0001 Generator Loss: 15.1337\n",
      "Epoch:  43/100 Discriminator Loss: 0.2571 Generator Loss: 2.4440\n",
      "Epoch:  44/100 Discriminator Loss: 0.1548 Generator Loss: 2.5570\n",
      "Epoch:  45/100 Discriminator Loss: 0.6314 Generator Loss: 1.3392\n",
      "Epoch:  46/100 Discriminator Loss: 0.1274 Generator Loss: 3.6610\n",
      "Epoch:  47/100 Discriminator Loss: 0.8760 Generator Loss: 0.9338\n",
      "Epoch:  48/100 Discriminator Loss: 0.1839 Generator Loss: 2.2605\n",
      "Epoch:  49/100 Discriminator Loss: 0.1491 Generator Loss: 2.7308\n",
      "Epoch:  50/100 Discriminator Loss: 0.5930 Generator Loss: 1.3000\n",
      "Epoch:  51/100 Discriminator Loss: 0.3342 Generator Loss: 2.5772\n",
      "Epoch:  52/100 Discriminator Loss: 0.1488 Generator Loss: 2.4548\n",
      "Epoch:  53/100 Discriminator Loss: 0.0000 Generator Loss: 16.1181\n",
      "Epoch:  54/100 Discriminator Loss: 0.2242 Generator Loss: 3.0699\n",
      "Epoch:  55/100 Discriminator Loss: 0.5100 Generator Loss: 1.5452\n",
      "Epoch:  56/100 Discriminator Loss: 0.1228 Generator Loss: 3.3001\n",
      "Epoch:  57/100 Discriminator Loss: 0.1205 Generator Loss: 2.4755\n",
      "Epoch:  58/100 Discriminator Loss: 0.0276 Generator Loss: 5.4375\n",
      "Epoch:  59/100 Discriminator Loss: 0.4721 Generator Loss: 2.0117\n",
      "Epoch:  60/100 Discriminator Loss: 0.1086 Generator Loss: 3.4294\n",
      "Epoch:  61/100 Discriminator Loss: 0.4718 Generator Loss: 1.4120\n",
      "Epoch:  62/100 Discriminator Loss: 0.6728 Generator Loss: 1.2413\n",
      "Epoch:  63/100 Discriminator Loss: 0.0302 Generator Loss: 4.7570\n",
      "Epoch:  64/100 Discriminator Loss: 0.0000 Generator Loss: 16.1181\n",
      "Epoch:  65/100 Discriminator Loss: 0.1881 Generator Loss: 4.7810\n",
      "Epoch:  66/100 Discriminator Loss: 0.0395 Generator Loss: 4.0581\n",
      "Epoch:  67/100 Discriminator Loss: 0.1035 Generator Loss: 3.4501\n",
      "Epoch:  68/100 Discriminator Loss: 0.1018 Generator Loss: 3.6768\n",
      "Epoch:  69/100 Discriminator Loss: 0.0771 Generator Loss: 3.7158\n",
      "Epoch:  70/100 Discriminator Loss: 0.2110 Generator Loss: 4.1678\n",
      "Epoch:  71/100 Discriminator Loss: 0.1843 Generator Loss: 6.0242\n",
      "Epoch:  72/100 Discriminator Loss: 0.7937 Generator Loss: 1.5478\n",
      "Epoch:  73/100 Discriminator Loss: 0.1276 Generator Loss: 3.0187\n",
      "Epoch:  74/100 Discriminator Loss: 0.5155 Generator Loss: 1.9697\n",
      "Epoch:  75/100 Discriminator Loss: 0.5424 Generator Loss: 2.8366\n",
      "Epoch:  76/100 Discriminator Loss: 0.4533 Generator Loss: 1.8176\n",
      "Epoch:  77/100 Discriminator Loss: 0.3681 Generator Loss: 1.8802\n",
      "Epoch:  78/100 Discriminator Loss: 0.2358 Generator Loss: 2.5613\n",
      "Epoch:  79/100 Discriminator Loss: 0.0131 Generator Loss: 5.5108\n",
      "Epoch:  80/100 Discriminator Loss: 0.1123 Generator Loss: 3.0768\n",
      "Epoch:  81/100 Discriminator Loss: 0.2888 Generator Loss: 2.5489\n",
      "Epoch:  82/100 Discriminator Loss: 0.0814 Generator Loss: 3.2245\n",
      "Epoch:  83/100 Discriminator Loss: 0.5424 Generator Loss: 1.2625\n",
      "Epoch:  84/100 Discriminator Loss: 0.5889 Generator Loss: 1.6539\n",
      "Epoch:  85/100 Discriminator Loss: 0.1455 Generator Loss: 2.8291\n",
      "Epoch:  86/100 Discriminator Loss: 0.0720 Generator Loss: 3.8820\n",
      "Epoch:  87/100 Discriminator Loss: 0.0576 Generator Loss: 5.7343\n",
      "Epoch:  88/100 Discriminator Loss: 0.2107 Generator Loss: 4.7325\n",
      "Epoch:  89/100 Discriminator Loss: 0.0842 Generator Loss: 3.6496\n",
      "Epoch:  90/100 Discriminator Loss: 1.1953 Generator Loss: 0.8125\n",
      "Epoch:  91/100 Discriminator Loss: 0.3422 Generator Loss: 2.9020\n",
      "Epoch:  92/100 Discriminator Loss: 0.0209 Generator Loss: 5.3654\n",
      "Epoch:  93/100 Discriminator Loss: 0.8669 Generator Loss: 1.7252\n",
      "Epoch:  94/100 Discriminator Loss: 0.0048 Generator Loss: 7.9112\n",
      "Epoch:  95/100 Discriminator Loss: 0.1429 Generator Loss: 3.2038\n",
      "Epoch:  96/100 Discriminator Loss: 0.1477 Generator Loss: 2.8523\n",
      "Epoch:  97/100 Discriminator Loss: 0.1698 Generator Loss: 3.3089\n",
      "Epoch:  98/100 Discriminator Loss: 0.1181 Generator Loss: 2.5774\n",
      "Epoch:  99/100 Discriminator Loss: 0.7442 Generator Loss: 1.4974\n",
      "Epoch: 100/100 Discriminator Loss: 0.5494 Generator Loss: 1.4653\n"
     ]
    }
   ],
   "source": [
    "sample_size     = 100     # latent sample size (i.e. 100 random numbers)\n",
    "g_learning_rate = 0.0001  # learning rate for the generator\n",
    "d_learning_rate = 0.001   # learning rate for the discriminator\n",
    "leaky_alpha     = 0.01\n",
    "epochs          = 100\n",
    "batch_size      = 64      # train batch size\n",
    "eval_size       = 16      # evaluate size\n",
    "smooth          = 0.1\n",
    "\n",
    "# labels for the batch size and the test size\n",
    "y_train_real, y_train_fake = make_labels(batch_size)\n",
    "y_eval_real,  y_eval_fake  = make_labels(eval_size)\n",
    "\n",
    "# create a GAN, a generator and a discriminator\n",
    "gan, generator, discriminator = make_DCGAN(\n",
    "    sample_size, \n",
    "    g_learning_rate, \n",
    "    d_learning_rate,\n",
    "    leaky_alpha)\n",
    "\n",
    "losses = []\n",
    "for e in range(epochs):\n",
    "    for i in range(len(X_train_real)//batch_size):\n",
    "        # real MNIST digit images\n",
    "        X_batch_real = X_train_real[i*batch_size:(i+1)*batch_size]\n",
    "        \n",
    "        # latent samples and the generated digit images\n",
    "        latent_samples = make_latent_samples(batch_size, sample_size)\n",
    "        X_batch_fake = generator.predict_on_batch(latent_samples)\n",
    "        \n",
    "        # train the discriminator to detect real and fake images\n",
    "        make_trainable(discriminator, True)\n",
    "        discriminator.train_on_batch(X_batch_real, y_train_real * (1 - smooth))\n",
    "        discriminator.train_on_batch(X_batch_fake, y_train_fake)\n",
    "\n",
    "        # train the generator via GAN\n",
    "        make_trainable(discriminator, False)\n",
    "        gan.train_on_batch(latent_samples, y_train_real)\n",
    "    \n",
    "    # evaluate\n",
    "    X_eval_real = X_test_real[np.random.choice(len(X_test_real), eval_size, replace=False)]\n",
    "    \n",
    "    latent_samples = make_latent_samples(eval_size, sample_size)\n",
    "    X_eval_fake = generator.predict_on_batch(latent_samples)\n",
    "\n",
    "    d_loss = discriminator.test_on_batch(X_eval_real, y_eval_real)\n",
    "    d_loss = discriminator.test_on_batch(X_eval_fake, y_eval_fake)\n",
    "    g_loss = gan.test_on_batch(latent_samples, y_eval_real) # we want the fake to be realistic!\n",
    "    \n",
    "    losses.append((d_loss, g_loss))\n",
    "    \n",
    "    print(\"Epoch: {:>3}/{} Discriminator Loss: {:>6.4f} Generator Loss: {:>6.4f}\".format(\n",
    "        e+1, epochs, d_loss, g_loss))    "
   ]
  },
  {
   "cell_type": "markdown",
   "metadata": {},
   "source": [
    "## Results\n",
    "\n",
    "The discriminator loss and the generator loss are shown below.  They both kind of stabilizes in the end."
   ]
  },
  {
   "cell_type": "code",
   "execution_count": 13,
   "metadata": {},
   "outputs": [
    {
     "data": {
      "image/png": "[encoded data removed]",
      "text/plain": [
       "<matplotlib.figure.Figure at 0x7f54d6da5438>"
      ]
     },
     "metadata": {},
     "output_type": "display_data"
    }
   ],
   "source": [
    "losses = np.array(losses)\n",
    "\n",
    "fig, ax = plt.subplots()\n",
    "plt.plot(losses.T[0], label='Discriminator')\n",
    "plt.plot(losses.T[1], label='Generator')\n",
    "plt.title(\"Training Losses\")\n",
    "plt.legend()\n",
    "plt.show()"
   ]
  },
  {
   "cell_type": "markdown",
   "metadata": {},
   "source": [
    "We can generate new images using the generator."
   ]
  },
  {
   "cell_type": "code",
   "execution_count": 14,
   "metadata": {},
   "outputs": [
    {
     "data": {
      "image/png": "[encoded data removed]",
      "text/plain": [
       "<matplotlib.figure.Figure at 0x7f5450d04ac8>"
      ]
     },
     "metadata": {},
     "output_type": "display_data"
    }
   ],
   "source": [
    "latent_samples = make_latent_samples(20, sample_size)\n",
    "generated_digits = generator.predict(latent_samples)\n",
    "\n",
    "plt.figure(figsize=(5, 4))\n",
    "for i in range(20):\n",
    "    img = deprocess(generated_digits[i])\n",
    "    plt.subplot(4, 5, i+1)\n",
    "    plt.imshow(img, cmap='gray')\n",
    "    plt.xticks([])\n",
    "    plt.yticks([])\n",
    "plt.tight_layout()\n",
    "plt.show()"
   ]
  },
  {
   "cell_type": "markdown",
   "metadata": {},
   "source": [
    "It's definitely much better than the results from the simple GAN MNIST model in [gan_mnist.ipynb](gan_mnist.ipynb)."
   ]
  },
  {
   "cell_type": "markdown",
   "metadata": {},
   "source": [
    "## References\n",
    "\n",
    "<a id=\"ref1\"></a>\n",
    "### [1] MNIST dataset\n",
    " \n",
    "Yann LeCun\n",
    " \n",
    "http://yann.lecun.com/exdb/mnist/\n",
    "\n",
    "<a id=\"ref2\"></a>\n",
    "### [2] Deep Convolutional GANs\n",
    "\n",
    "Udacity\n",
    "\n",
    "https://github.com/udacity/deep-learning/blob/master/dcgan-svhn/DCGAN.ipynb\n",
    "\n",
    "<a id=\"ref3\"></a>\n",
    "### [3] Unsupervised Representation Learning with Deep Convolutional Generative Adversarial Networks\n",
    "\n",
    "Alec Radford & Luke Metz (indico Research), Soumith Chintala (Facebook AI Research)\n",
    "\n",
    "https://arxiv.org/pdf/1511.06434.pdf"
   ]
  }
 ],
 "metadata": {
  "kernelspec": {
   "display_name": "Python 3",
   "language": "python",
   "name": "python3"
  },
  "language_info": {
   "codemirror_mode": {
    "name": "ipython",
    "version": 3
   },
   "file_extension": ".py",
   "mimetype": "text/x-python",
   "name": "python",
   "nbconvert_exporter": "python",
   "pygments_lexer": "ipython3",
   "version": "3.6.2"
  }
 },
 "nbformat": 4,
 "nbformat_minor": 2
}
