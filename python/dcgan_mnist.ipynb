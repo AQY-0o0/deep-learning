{
 "cells": [
  {
   "cell_type": "markdown",
   "metadata": {},
   "source": [
    "# Deep Convolutional GAN (DCGAN) with MNIST\n",
    "\n",
    "This is a follow-up on [gan_mnist.ipynb](gan_mnist.ipynb).  It uses deep convolutional networks in the generator and the discriminator."
   ]
  },
  {
   "cell_type": "code",
   "execution_count": 1,
   "metadata": {},
   "outputs": [
    {
     "name": "stderr",
     "output_type": "stream",
     "text": [
      "Using TensorFlow backend.\n"
     ]
    }
   ],
   "source": [
    "import numpy as np\n",
    "from scipy.io import loadmat\n",
    "import keras\n",
    "import keras.backend as K\n",
    "from keras.layers import Dense, Activation, LeakyReLU, BatchNormalization\n",
    "from keras.layers import Conv2D, Conv2DTranspose, Reshape, Flatten\n",
    "from keras.models import Sequential\n",
    "from keras.optimizers import Adam\n",
    "from sklearn.model_selection import train_test_split\n",
    "import matplotlib.pyplot as plt\n",
    "%matplotlib inline"
   ]
  },
  {
   "cell_type": "markdown",
   "metadata": {},
   "source": [
    "## Loading MNIST Dataset"
   ]
  },
  {
   "cell_type": "code",
   "execution_count": 2,
   "metadata": {
    "collapsed": true
   },
   "outputs": [],
   "source": [
    "(X_train, y_train), (X_test, y_test) = keras.datasets.mnist.load_data()"
   ]
  },
  {
   "cell_type": "markdown",
   "metadata": {},
   "source": [
    "We only use the images not the categorical labels."
   ]
  },
  {
   "cell_type": "code",
   "execution_count": 3,
   "metadata": {},
   "outputs": [
    {
     "data": {
      "image/png": "[encoded data removed]",
      "text/plain": [
       "<matplotlib.figure.Figure at 0x7fac5fa7d710>"
      ]
     },
     "metadata": {},
     "output_type": "display_data"
    }
   ],
   "source": [
    "plt.figure(figsize=(5, 4))\n",
    "for i in range(20):\n",
    "    plt.subplot(4, 5, i+1)\n",
    "    plt.imshow(X_train[i], cmap='gray')\n",
    "    plt.xticks([])\n",
    "    plt.yticks([])\n",
    "plt.tight_layout()\n",
    "plt.show()"
   ]
  },
  {
   "cell_type": "markdown",
   "metadata": {},
   "source": [
    "## Preprocessing and Deprocessing\n",
    "\n",
    "As usual, we need preprocessing and later deprocessing of the images.  \n",
    "\n",
    "As we will see later on, the generator is using `tanh` activation, for which we need to preprocess the image data into the range between -1 and 1."
   ]
  },
  {
   "cell_type": "code",
   "execution_count": 4,
   "metadata": {
    "collapsed": true
   },
   "outputs": [],
   "source": [
    "def preprocess(x):    \n",
    "    x = x.reshape(-1, 28, 28, 1) # 28,28,1\n",
    "    x = np.float64(x)\n",
    "    x = (x / 255 - 0.5) * 2\n",
    "    x = np.clip(x, -1, 1)\n",
    "    return x\n",
    "\n",
    "def deprocess(x):\n",
    "    x = (x / 2 + 1) * 255\n",
    "    x = np.clip(x, 0, 255)\n",
    "    x = np.uint8(x)\n",
    "    x = x.reshape(28, 28)\n",
    "    return x"
   ]
  },
  {
   "cell_type": "markdown",
   "metadata": {},
   "source": [
    "Apply the preprocessing on the train and test images (and they are the real images as oppose to the generated images)."
   ]
  },
  {
   "cell_type": "code",
   "execution_count": 5,
   "metadata": {
    "collapsed": true
   },
   "outputs": [],
   "source": [
    "X_train_real = preprocess(X_train)\n",
    "X_test_real  = preprocess(X_test)"
   ]
  },
  {
   "cell_type": "markdown",
   "metadata": {},
   "source": [
    "## Generator\n",
    "\n",
    "The original DCGAN paper [[3]](#ref3) proposes the following generator network architecture.\n",
    "\n",
    "<img src='../images/dcgan_svhn/generator.png' width='70%'>\n",
    "\n",
    "In this notebook, I used smaller networks than what the original paper [[3]](#ref3) uses.\n",
    "\n",
    "It takes a latent sample of 100 random numbers and generates a 28x28 image with 1 channel.\n",
    "\n",
    "In [gan_mnist.ipynb](gan_mnist.ipynb), I used a fully connected layer with 784 (=28x28) neurons.  To make this generator comparable, I use the same number of neurons in the first fully connected hidden layer, and then added transpose convolution layers afterwards."
   ]
  },
  {
   "cell_type": "code",
   "execution_count": 6,
   "metadata": {
    "collapsed": true
   },
   "outputs": [],
   "source": [
    "def make_generator(input_size, leaky_alpha):\n",
    "    # generates images in (28,28,1)\n",
    "    return Sequential([\n",
    "        Dense(784, input_shape=(input_size,)),\n",
    "        Reshape(target_shape=(7, 7, 16)),                              # 7,7,16\n",
    "        BatchNormalization(),\n",
    "        LeakyReLU(alpha=leaky_alpha),\n",
    "        Conv2DTranspose(32, kernel_size=5, strides=2, padding='same'), # 14,14,32\n",
    "        BatchNormalization(),\n",
    "        LeakyReLU(alpha=leaky_alpha),\n",
    "        Conv2DTranspose(1, kernel_size=5, strides=2, padding='same'),  # 28,28,1\n",
    "        Activation('tanh')\n",
    "    ])"
   ]
  },
  {
   "cell_type": "markdown",
   "metadata": {},
   "source": [
    "## Discriminator\n"
   ]
  },
  {
   "cell_type": "markdown",
   "metadata": {},
   "source": [
    "The discriminator is a classifier to tell if the input image is real or fake.  \n",
    "\n",
    "It is a convolutional neural network that takes a 28x28 image with 1 channel.  The values in the image is expected to be between -1 and 1.\n",
    "\n",
    "The activation of the output layer is `sigmoid` and the discriminator outputs a probability of the image being real.\n",
    "\n",
    "In [gan_mnist.ipynb](gan_mnist.ipynb), I used a fully connected layer with 784 (=28x28) neurons.  To make this discriminator comparable, I use the same number of neurons in the last fully connected hidden layer, and then added convolution layers beforehands.\n",
    "\n",
    "Note: using the decreasing number of filters may be a bit unusual but I did this to make the discriminator network and the generator network to have same kind of increase in the number of convolutional network neurons (hopefully keeping their power in balance)."
   ]
  },
  {
   "cell_type": "code",
   "execution_count": 7,
   "metadata": {
    "collapsed": true
   },
   "outputs": [],
   "source": [
    "def make_discriminator(leaky_alpha):\n",
    "    # classifies images in (28,28,1)\n",
    "    return Sequential([        \n",
    "        Conv2D(32, kernel_size=5, strides=2, padding='same',    # 14,14,32\n",
    "               input_shape=(28,28,1)),\n",
    "        LeakyReLU(alpha=leaky_alpha),\n",
    "        Conv2D(16, kernel_size=5, strides=2, padding='same'),   # 7,7,16\n",
    "        BatchNormalization(),\n",
    "        LeakyReLU(alpha=leaky_alpha),\n",
    "        Flatten(),\n",
    "        Dense(784),\n",
    "        BatchNormalization(),\n",
    "        LeakyReLU(alpha=leaky_alpha),\n",
    "        Dense(1),\n",
    "        Activation('sigmoid')        \n",
    "    ])"
   ]
  },
  {
   "cell_type": "markdown",
   "metadata": {},
   "source": [
    "### About Batch Normalization\n",
    "\n",
    "As for the batch normalization, it was applied to most of the layers but not all.  The below is a quote from the original DCGAN paper [[3]](#ref3).\n",
    "\n",
    "> Directly applying batchnorm to all layers, however, resulted in sample oscillation and model instability. This was avoided by not applying batchnorm to the generator output layer and the discriminator input layer.\n"
   ]
  },
  {
   "cell_type": "markdown",
   "metadata": {},
   "source": [
    "## DCGAN\n",
    "\n",
    "We connect the generator and the discriminator to make a DCGAN.\n",
    "\n",
    "The input to the DCGAN is a latent sample.  The generator inside DCGAN produces an image which is fed into the discriminator inside the DCGAN.  So, the output of DCGAN is the probability of the generated image being real."
   ]
  },
  {
   "cell_type": "code",
   "execution_count": 8,
   "metadata": {
    "collapsed": true
   },
   "outputs": [],
   "source": [
    "# beta_1 is the exponential decay rate for the 1st moment estimates in Adam optimizer\n",
    "def make_DCGAN(sample_size, \n",
    "               g_learning_rate, \n",
    "               d_learning_rate,\n",
    "               leaky_alpha):\n",
    "    # generator\n",
    "    generator = make_generator(sample_size, leaky_alpha)\n",
    "\n",
    "    # discriminator\n",
    "    discriminator = make_discriminator(leaky_alpha)\n",
    "    discriminator.compile(optimizer=Adam(lr=d_learning_rate), loss='binary_crossentropy')\n",
    "    \n",
    "    # GAN\n",
    "    gan = Sequential([generator, discriminator])\n",
    "    gan.compile(optimizer=Adam(lr=g_learning_rate), loss='binary_crossentropy')\n",
    "    \n",
    "    return gan, generator, discriminator"
   ]
  },
  {
   "cell_type": "markdown",
   "metadata": {},
   "source": [
    "## Training DCGAN\n",
    "\n",
    "The below is a function to generate latent samples."
   ]
  },
  {
   "cell_type": "code",
   "execution_count": 9,
   "metadata": {
    "collapsed": true
   },
   "outputs": [],
   "source": [
    "def make_latent_samples(n_samples, sample_size):\n",
    "    #return np.random.uniform(-1, 1, size=(n_samples, sample_size))\n",
    "    return np.random.normal(loc=0, scale=1, size=(n_samples, sample_size))"
   ]
  },
  {
   "cell_type": "markdown",
   "metadata": {},
   "source": [
    "The below is a function to set the discriminator to trainable or non-trainable."
   ]
  },
  {
   "cell_type": "code",
   "execution_count": 10,
   "metadata": {
    "collapsed": true
   },
   "outputs": [],
   "source": [
    "def make_trainable(model, trainable):\n",
    "    for layer in model.layers:\n",
    "        layer.trainable = trainable"
   ]
  },
  {
   "cell_type": "markdown",
   "metadata": {},
   "source": [
    "The below is a function to create a batch of labels."
   ]
  },
  {
   "cell_type": "code",
   "execution_count": 11,
   "metadata": {
    "collapsed": true
   },
   "outputs": [],
   "source": [
    "def make_labels(size):\n",
    "    return np.ones([size, 1]), np.zeros([size, 1])"
   ]
  },
  {
   "cell_type": "markdown",
   "metadata": {},
   "source": [
    "The training DCGAN is essentially the same as training a simple GAN in [gan_mnist.ipynb](gan_mnist.ipynb).\n",
    "\n",
    "* set the discriminator trainable\n",
    "* train the discriminator with real images with the label smoothing   (labels=1-smooth)\n",
    "* train the discriminator with fake images generated by the generator (labels=0)\n",
    "* set the discriminator non-trainable\n",
    "* train the DCGAN with generated images (labels=1)\n",
    "\n",
    "We repeat this process many times until the discriminator loss and the generator loss stabilizes."
   ]
  },
  {
   "cell_type": "code",
   "execution_count": 12,
   "metadata": {},
   "outputs": [
    {
     "name": "stdout",
     "output_type": "stream",
     "text": [
      "Epoch:   1/100 Discriminator Loss: 6.1034 Generator Loss: 1.3741\n",
      "Epoch:   2/100 Discriminator Loss: 1.7829 Generator Loss: 1.0496\n",
      "Epoch:   3/100 Discriminator Loss: 2.6401 Generator Loss: 1.3158\n",
      "Epoch:   4/100 Discriminator Loss: 9.9313 Generator Loss: 9.5626\n",
      "Epoch:   5/100 Discriminator Loss: 6.0627 Generator Loss: 6.1902\n",
      "Epoch:   6/100 Discriminator Loss: 5.0648 Generator Loss: 3.3931\n",
      "Epoch:   7/100 Discriminator Loss: 1.3909 Generator Loss: 1.2969\n",
      "Epoch:   8/100 Discriminator Loss: 4.3349 Generator Loss: 4.5662\n",
      "Epoch:   9/100 Discriminator Loss: 3.6264 Generator Loss: 4.3671\n",
      "Epoch:  10/100 Discriminator Loss: 3.2477 Generator Loss: 2.4365\n",
      "Epoch:  11/100 Discriminator Loss: 7.0162 Generator Loss: 6.5445\n",
      "Epoch:  12/100 Discriminator Loss: 1.7893 Generator Loss: 0.6268\n",
      "Epoch:  13/100 Discriminator Loss: 1.1098 Generator Loss: 1.6246\n",
      "Epoch:  14/100 Discriminator Loss: 2.3767 Generator Loss: 3.1691\n",
      "Epoch:  15/100 Discriminator Loss: 7.0090 Generator Loss: 4.8333\n",
      "Epoch:  16/100 Discriminator Loss: 15.1476 Generator Loss: 10.6273\n",
      "Epoch:  17/100 Discriminator Loss: 5.1209 Generator Loss: 3.6309\n",
      "Epoch:  18/100 Discriminator Loss: 5.7115 Generator Loss: 4.8413\n",
      "Epoch:  19/100 Discriminator Loss: 9.3397 Generator Loss: 6.1275\n",
      "Epoch:  20/100 Discriminator Loss: 15.7321 Generator Loss: 15.1019\n",
      "Epoch:  21/100 Discriminator Loss: 5.3965 Generator Loss: 5.4029\n",
      "Epoch:  22/100 Discriminator Loss: 1.5886 Generator Loss: 1.4839\n",
      "Epoch:  23/100 Discriminator Loss: 13.2078 Generator Loss: 12.7897\n",
      "Epoch:  24/100 Discriminator Loss: 3.3050 Generator Loss: 3.1451\n",
      "Epoch:  25/100 Discriminator Loss: 5.6111 Generator Loss: 4.8317\n",
      "Epoch:  26/100 Discriminator Loss: 2.6409 Generator Loss: 3.2774\n",
      "Epoch:  27/100 Discriminator Loss: 2.2644 Generator Loss: 2.5787\n",
      "Epoch:  28/100 Discriminator Loss: 1.8601 Generator Loss: 2.3994\n",
      "Epoch:  29/100 Discriminator Loss: 4.0775 Generator Loss: 2.8582\n",
      "Epoch:  30/100 Discriminator Loss: 2.3877 Generator Loss: 2.7160\n",
      "Epoch:  31/100 Discriminator Loss: 10.4973 Generator Loss: 10.1859\n",
      "Epoch:  32/100 Discriminator Loss: 3.6336 Generator Loss: 3.7175\n",
      "Epoch:  33/100 Discriminator Loss: 4.8277 Generator Loss: 6.3984\n",
      "Epoch:  34/100 Discriminator Loss: 5.2035 Generator Loss: 4.5339\n",
      "Epoch:  35/100 Discriminator Loss: 1.7200 Generator Loss: 2.8584\n",
      "Epoch:  36/100 Discriminator Loss: 4.9414 Generator Loss: 3.8774\n",
      "Epoch:  37/100 Discriminator Loss: 16.1181 Generator Loss: 16.0011\n",
      "Epoch:  38/100 Discriminator Loss: 13.4223 Generator Loss: 11.8293\n",
      "Epoch:  39/100 Discriminator Loss: 8.5750 Generator Loss: 8.0655\n",
      "Epoch:  40/100 Discriminator Loss: 15.9137 Generator Loss: 14.2214\n",
      "Epoch:  41/100 Discriminator Loss: 2.7461 Generator Loss: 2.1358\n",
      "Epoch:  42/100 Discriminator Loss: 3.7946 Generator Loss: 3.0495\n",
      "Epoch:  43/100 Discriminator Loss: 7.0745 Generator Loss: 8.8762\n",
      "Epoch:  44/100 Discriminator Loss: 2.6289 Generator Loss: 3.8270\n",
      "Epoch:  45/100 Discriminator Loss: 3.7284 Generator Loss: 2.9776\n",
      "Epoch:  46/100 Discriminator Loss: 2.4216 Generator Loss: 3.6182\n",
      "Epoch:  47/100 Discriminator Loss: 6.8106 Generator Loss: 7.7414\n",
      "Epoch:  48/100 Discriminator Loss: 15.8413 Generator Loss: 15.4687\n",
      "Epoch:  49/100 Discriminator Loss: 11.3087 Generator Loss: 7.3347\n",
      "Epoch:  50/100 Discriminator Loss: 14.8296 Generator Loss: 14.7077\n",
      "Epoch:  51/100 Discriminator Loss: 7.3676 Generator Loss: 7.6076\n",
      "Epoch:  52/100 Discriminator Loss: 1.0547 Generator Loss: 1.1982\n",
      "Epoch:  53/100 Discriminator Loss: 12.1100 Generator Loss: 10.7509\n",
      "Epoch:  54/100 Discriminator Loss: 2.2207 Generator Loss: 3.3872\n",
      "Epoch:  55/100 Discriminator Loss: 1.3268 Generator Loss: 2.0323\n",
      "Epoch:  56/100 Discriminator Loss: 3.6349 Generator Loss: 2.8387\n",
      "Epoch:  57/100 Discriminator Loss: 14.1037 Generator Loss: 13.0761\n",
      "Epoch:  58/100 Discriminator Loss: 14.7317 Generator Loss: 14.0245\n",
      "Epoch:  59/100 Discriminator Loss: 7.5346 Generator Loss: 8.4347\n",
      "Epoch:  60/100 Discriminator Loss: 1.9302 Generator Loss: 2.4768\n",
      "Epoch:  61/100 Discriminator Loss: 4.9709 Generator Loss: 5.2585\n",
      "Epoch:  62/100 Discriminator Loss: 13.3168 Generator Loss: 11.7107\n",
      "Epoch:  63/100 Discriminator Loss: 11.8149 Generator Loss: 9.6584\n",
      "Epoch:  64/100 Discriminator Loss: 2.6577 Generator Loss: 2.1801\n",
      "Epoch:  65/100 Discriminator Loss: 7.6116 Generator Loss: 6.9306\n",
      "Epoch:  66/100 Discriminator Loss: 16.1182 Generator Loss: 14.8521\n",
      "Epoch:  67/100 Discriminator Loss: 2.0178 Generator Loss: 2.0570\n",
      "Epoch:  68/100 Discriminator Loss: 7.1884 Generator Loss: 6.4478\n",
      "Epoch:  69/100 Discriminator Loss: 1.1603 Generator Loss: 1.2807\n",
      "Epoch:  70/100 Discriminator Loss: 4.3426 Generator Loss: 4.1329\n",
      "Epoch:  71/100 Discriminator Loss: 9.3302 Generator Loss: 10.2260\n",
      "Epoch:  72/100 Discriminator Loss: 15.0713 Generator Loss: 13.2510\n",
      "Epoch:  73/100 Discriminator Loss: 16.1181 Generator Loss: 16.1181\n",
      "Epoch:  74/100 Discriminator Loss: 3.8268 Generator Loss: 3.4807\n",
      "Epoch:  75/100 Discriminator Loss: 15.4620 Generator Loss: 14.4741\n",
      "Epoch:  76/100 Discriminator Loss: 5.6500 Generator Loss: 5.5037\n",
      "Epoch:  77/100 Discriminator Loss: 2.7249 Generator Loss: 3.5110\n",
      "Epoch:  78/100 Discriminator Loss: 2.4859 Generator Loss: 3.0664\n",
      "Epoch:  79/100 Discriminator Loss: 2.3087 Generator Loss: 2.5499\n",
      "Epoch:  80/100 Discriminator Loss: 2.6252 Generator Loss: 2.3000\n",
      "Epoch:  81/100 Discriminator Loss: 6.5097 Generator Loss: 6.7459\n",
      "Epoch:  82/100 Discriminator Loss: 2.2644 Generator Loss: 2.7407\n",
      "Epoch:  83/100 Discriminator Loss: 2.3288 Generator Loss: 2.0464\n",
      "Epoch:  84/100 Discriminator Loss: 2.0895 Generator Loss: 2.8122\n",
      "Epoch:  85/100 Discriminator Loss: 1.1281 Generator Loss: 2.3470\n",
      "Epoch:  86/100 Discriminator Loss: 1.7092 Generator Loss: 2.5124\n",
      "Epoch:  87/100 Discriminator Loss: 2.5279 Generator Loss: 3.4084\n",
      "Epoch:  88/100 Discriminator Loss: 2.3823 Generator Loss: 3.2073\n",
      "Epoch:  89/100 Discriminator Loss: 5.2118 Generator Loss: 5.7256\n",
      "Epoch:  90/100 Discriminator Loss: 1.5158 Generator Loss: 1.8716\n",
      "Epoch:  91/100 Discriminator Loss: 1.3066 Generator Loss: 2.4862\n",
      "Epoch:  92/100 Discriminator Loss: 1.6506 Generator Loss: 2.6218\n",
      "Epoch:  93/100 Discriminator Loss: 1.8080 Generator Loss: 2.9860\n",
      "Epoch:  94/100 Discriminator Loss: 2.0281 Generator Loss: 2.7402\n",
      "Epoch:  95/100 Discriminator Loss: 1.4822 Generator Loss: 3.1705\n",
      "Epoch:  96/100 Discriminator Loss: 1.7644 Generator Loss: 3.2833\n",
      "Epoch:  97/100 Discriminator Loss: 1.4202 Generator Loss: 1.5321\n",
      "Epoch:  98/100 Discriminator Loss: 1.7681 Generator Loss: 2.5027\n",
      "Epoch:  99/100 Discriminator Loss: 2.2202 Generator Loss: 3.4858\n",
      "Epoch: 100/100 Discriminator Loss: 2.4649 Generator Loss: 3.0431\n"
     ]
    }
   ],
   "source": [
    "sample_size     = 100     # latent sample size (i.e. 100 random numbers)\n",
    "g_learning_rate = 0.0001  # learning rate for the generator\n",
    "d_learning_rate = 0.001   # learning rate for the discriminator\n",
    "leaky_alpha     = 0.01\n",
    "epochs          = 100\n",
    "batch_size      = 64      # train batch size\n",
    "eval_size       = 16      # evaluate size\n",
    "smooth          = 0.1\n",
    "\n",
    "# labels for the batch size and the test size\n",
    "y_train_real, y_train_fake = make_labels(batch_size)\n",
    "y_eval_real,  y_eval_fake  = make_labels(eval_size)\n",
    "\n",
    "# create a GAN, a generator and a discriminator\n",
    "gan, generator, discriminator = make_DCGAN(\n",
    "    sample_size, \n",
    "    g_learning_rate, \n",
    "    d_learning_rate,\n",
    "    leaky_alpha)\n",
    "\n",
    "losses = []\n",
    "for e in range(epochs):\n",
    "    for i in range(len(X_train_real)//batch_size):\n",
    "        # real MNIST digit images\n",
    "        X_batch_real = X_train_real[i*batch_size:(i+1)*batch_size]\n",
    "        \n",
    "        # latent samples and the generated digit images\n",
    "        latent_samples = make_latent_samples(batch_size, sample_size)\n",
    "        X_batch_fake = generator.predict_on_batch(latent_samples)\n",
    "        \n",
    "        # train the discriminator to detect real and fake images\n",
    "        make_trainable(discriminator, True)\n",
    "        discriminator.train_on_batch(X_batch_real, y_train_real * (1 - smooth))\n",
    "        discriminator.train_on_batch(X_batch_fake, y_train_fake)\n",
    "\n",
    "        # train the generator via GAN\n",
    "        make_trainable(discriminator, False)\n",
    "        gan.train_on_batch(latent_samples, y_train_real)\n",
    "    \n",
    "    # evaluate\n",
    "    X_eval_real = X_test_real[np.random.choice(len(X_test_real), eval_size, replace=False)]\n",
    "    \n",
    "    latent_samples = make_latent_samples(eval_size, sample_size)\n",
    "    X_eval_fake = generator.predict_on_batch(latent_samples)\n",
    "\n",
    "    d_loss  = discriminator.test_on_batch(X_eval_real, y_eval_real)\n",
    "    d_loss += discriminator.test_on_batch(X_eval_fake, y_eval_fake)\n",
    "    g_loss  = gan.test_on_batch(latent_samples, y_eval_real) # we want the fake to be realistic!\n",
    "    \n",
    "    losses.append((d_loss, g_loss))\n",
    "    \n",
    "    print(\"Epoch: {:>3}/{} Discriminator Loss: {:>6.4f} Generator Loss: {:>6.4f}\".format(\n",
    "        e+1, epochs, d_loss, g_loss))    "
   ]
  },
  {
   "cell_type": "markdown",
   "metadata": {},
   "source": [
    "## Results\n",
    "\n",
    "The discriminator loss and the generator loss are shown below.  They both kind of stabilizes in the end."
   ]
  },
  {
   "cell_type": "code",
   "execution_count": 13,
   "metadata": {},
   "outputs": [
    {
     "data": {
      "image/png": "[encoded data removed]",
      "text/plain": [
       "<matplotlib.figure.Figure at 0x7fac58b57e80>"
      ]
     },
     "metadata": {},
     "output_type": "display_data"
    }
   ],
   "source": [
    "losses = np.array(losses)\n",
    "\n",
    "fig, ax = plt.subplots()\n",
    "plt.plot(losses.T[0], label='Discriminator')\n",
    "plt.plot(losses.T[1], label='Generator')\n",
    "plt.title(\"Training Losses\")\n",
    "plt.legend()\n",
    "plt.show()"
   ]
  },
  {
   "cell_type": "markdown",
   "metadata": {},
   "source": [
    "We can generate new images using the generator."
   ]
  },
  {
   "cell_type": "code",
   "execution_count": 14,
   "metadata": {},
   "outputs": [
    {
     "data": {
      "image/png": "[encoded data removed]",
      "text/plain": [
       "<matplotlib.figure.Figure at 0x7fabb5ebfef0>"
      ]
     },
     "metadata": {},
     "output_type": "display_data"
    }
   ],
   "source": [
    "latent_samples = make_latent_samples(20, sample_size)\n",
    "generated_digits = generator.predict(latent_samples)\n",
    "\n",
    "plt.figure(figsize=(5, 4))\n",
    "for i in range(20):\n",
    "    img = deprocess(generated_digits[i])\n",
    "    plt.subplot(4, 5, i+1)\n",
    "    plt.imshow(img, cmap='gray')\n",
    "    plt.xticks([])\n",
    "    plt.yticks([])\n",
    "plt.tight_layout()\n",
    "plt.show()"
   ]
  },
  {
   "cell_type": "markdown",
   "metadata": {},
   "source": [
    "It's definitely much better than the results from the simple GAN MNIST model in [gan_mnist.ipynb](gan_mnist.ipynb)."
   ]
  },
  {
   "cell_type": "markdown",
   "metadata": {},
   "source": [
    "## References\n",
    "\n",
    "<a id=\"ref1\"></a>\n",
    "### [1] MNIST dataset\n",
    " \n",
    "Yann LeCun\n",
    " \n",
    "http://yann.lecun.com/exdb/mnist/\n",
    "\n",
    "<a id=\"ref2\"></a>\n",
    "### [2] Deep Convolutional GANs\n",
    "\n",
    "Udacity\n",
    "\n",
    "https://github.com/udacity/deep-learning/blob/master/dcgan-svhn/DCGAN.ipynb\n",
    "\n",
    "<a id=\"ref3\"></a>\n",
    "### [3] Unsupervised Representation Learning with Deep Convolutional Generative Adversarial Networks\n",
    "\n",
    "Alec Radford & Luke Metz (indico Research), Soumith Chintala (Facebook AI Research)\n",
    "\n",
    "https://arxiv.org/pdf/1511.06434.pdf"
   ]
  }
 ],
 "metadata": {
  "kernelspec": {
   "display_name": "Python 3",
   "language": "python",
   "name": "python3"
  },
  "language_info": {
   "codemirror_mode": {
    "name": "ipython",
    "version": 3
   },
   "file_extension": ".py",
   "mimetype": "text/x-python",
   "name": "python",
   "nbconvert_exporter": "python",
   "pygments_lexer": "ipython3",
   "version": "3.6.2"
  }
 },
 "nbformat": 4,
 "nbformat_minor": 2
}
