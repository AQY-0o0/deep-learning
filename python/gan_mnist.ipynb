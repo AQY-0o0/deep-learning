{
 "cells": [
  {
   "cell_type": "markdown",
   "metadata": {},
   "source": [
    "# Using GAN for Generating Hand-written Digit Images\n",
    "\n",
    "**GAN (Generative Adversarial Network)** [[1]](#ref1) is a framework proposed by Ian Goodfellow, Yoshua Bengio and others in 2014.  \n",
    "\n",
    "A GAN can be trained to generate images from random noises.  For example, we can train a GAN on MNIST (hand-written digits dataset) to generate digit images that look like hand-written digit images from MNIST, which could be used to train other neural networks.\n",
    "\n",
    "The code in this notebook is based on the **GAN MNIST example in TensorFlow by Udacity** [[2]](#ref2) which uses TensorFlow, but we use Keras on top of TensorFlow for more straightforward construction of networks.  Many of the ideas on training are from **How to Train a GAN? Tips and tricks to make GANs work** [[4]](#ref4)."
   ]
  },
  {
   "cell_type": "markdown",
   "metadata": {},
   "source": [
    "## MNIST\n",
    "\n",
    "MNIST is a well known database of handwritten digits [[3]](#ref3)."
   ]
  },
  {
   "cell_type": "code",
   "execution_count": 1,
   "metadata": {},
   "outputs": [
    {
     "name": "stderr",
     "output_type": "stream",
     "text": [
      "Using TensorFlow backend.\n"
     ]
    }
   ],
   "source": [
    "import numpy as np\n",
    "import keras\n",
    "import keras.backend as K\n",
    "from keras.layers import Input, Dense, Activation, LeakyReLU, BatchNormalization\n",
    "from keras.models import Sequential\n",
    "from keras.optimizers import Adam\n",
    "from sklearn.model_selection import train_test_split\n",
    "import matplotlib.pyplot as plt\n",
    "%matplotlib inline"
   ]
  },
  {
   "cell_type": "markdown",
   "metadata": {},
   "source": [
    "The below will download MNIST dataset (if not already)."
   ]
  },
  {
   "cell_type": "code",
   "execution_count": 2,
   "metadata": {
    "collapsed": true
   },
   "outputs": [],
   "source": [
    "(X_train, y_train), (X_test, y_test) = keras.datasets.mnist.load_data()"
   ]
  },
  {
   "cell_type": "markdown",
   "metadata": {},
   "source": [
    "Let's examine sample images.  We use 'gray' color map since it has no color information."
   ]
  },
  {
   "cell_type": "code",
   "execution_count": 3,
   "metadata": {},
   "outputs": [
    {
     "data": {
      "image/png": "[encoded data removed]",
      "text/plain": [
       "<matplotlib.figure.Figure at 0x7f378e71c0b8>"
      ]
     },
     "metadata": {},
     "output_type": "display_data"
    }
   ],
   "source": [
    "plt.figure(figsize=(5, 4))\n",
    "for i in range(20):\n",
    "    plt.subplot(4, 5, i+1)\n",
    "    plt.imshow(X_train[i], cmap='gray')\n",
    "    plt.xticks([])\n",
    "    plt.yticks([])\n",
    "plt.tight_layout()\n",
    "plt.show()"
   ]
  },
  {
   "cell_type": "markdown",
   "metadata": {},
   "source": [
    "All MNIST digit images come in 28x28 size."
   ]
  },
  {
   "cell_type": "code",
   "execution_count": 4,
   "metadata": {},
   "outputs": [
    {
     "data": {
      "image/png": "[encoded data removed]",
      "text/plain": [
       "<matplotlib.figure.Figure at 0x7f378e9e5dd8>"
      ]
     },
     "metadata": {},
     "output_type": "display_data"
    }
   ],
   "source": [
    "sample = X_train[17]\n",
    "\n",
    "plt.figure(figsize=(3, 2))\n",
    "plt.title(sample.shape)\n",
    "plt.imshow(sample, cmap='gray')\n",
    "plt.show()"
   ]
  },
  {
   "cell_type": "markdown",
   "metadata": {},
   "source": [
    "The minimum and maximum sizes of MNIST image data is 0 and 255 respectively."
   ]
  },
  {
   "cell_type": "code",
   "execution_count": 5,
   "metadata": {},
   "outputs": [
    {
     "data": {
      "text/plain": [
       "(0, 255)"
      ]
     },
     "execution_count": 5,
     "metadata": {},
     "output_type": "execute_result"
    }
   ],
   "source": [
    "X_train.min(), X_train.max()"
   ]
  },
  {
   "cell_type": "markdown",
   "metadata": {},
   "source": [
    "## Generator\n",
    "\n",
    "We want to build a generator that generates realistic hand-written images.  \n",
    "\n",
    "<img src='../images/gan_mnist/generator_good.png' width='65%'/>\n",
    "\n",
    "The input to the generator is called 'latent sample' which is a series of randomly generated numbers.  We use the normal distribution rather than the uniform distribution as suggested in [[4]](#ref4)."
   ]
  },
  {
   "cell_type": "code",
   "execution_count": 6,
   "metadata": {
    "collapsed": true
   },
   "outputs": [],
   "source": [
    "def make_latent_samples(n_samples, sample_size):\n",
    "    #return np.random.uniform(-1, 1, size=(n_samples, sample_size))\n",
    "    return np.random.normal(loc=0, scale=1, size=(n_samples, sample_size))"
   ]
  },
  {
   "cell_type": "markdown",
   "metadata": {},
   "source": [
    "The sample size is a hyperparameter.  Below, we use a vector of 100 randomly generated number as a sample."
   ]
  },
  {
   "cell_type": "code",
   "execution_count": 7,
   "metadata": {},
   "outputs": [
    {
     "data": {
      "text/plain": [
       "array([[ 0.58319197,  0.38051223, -0.60369225,  0.42656196, -1.29218149,\n",
       "         0.30038405, -1.88074409,  1.67055689, -1.63165491,  1.33348831,\n",
       "        -0.46100842, -0.62855855,  0.06284388,  1.15996414, -1.20753248,\n",
       "        -0.71001369, -0.09695396,  0.63031797, -0.18053517,  1.52501467,\n",
       "         0.73880275,  0.67118827,  0.85259698,  0.59969804, -0.94843132,\n",
       "         0.92779017,  0.34457539, -0.97232237,  0.79116779,  1.49281141,\n",
       "        -1.43849306, -0.8258255 ,  0.24449658, -0.29127456, -0.58272179,\n",
       "         0.02791923,  0.91529184,  0.84753249, -1.15773548,  0.74633812,\n",
       "        -0.37938215, -0.1346895 ,  0.90569241,  0.77696765,  0.6884707 ,\n",
       "         0.14724682,  0.95731156,  0.2217047 ,  0.39743869, -1.30751867,\n",
       "        -1.22359642,  0.09990256,  0.4881823 , -0.45944563,  0.28438203,\n",
       "         1.37138314,  0.62042439,  1.33176326,  0.03384377, -0.07446852,\n",
       "         0.6032747 , -0.44014214, -0.32998172,  0.59707184, -0.83674807,\n",
       "         0.35866746, -2.11814395,  1.24877029, -0.75619125,  1.21665812,\n",
       "         0.82478213, -0.36645913,  0.22131779,  0.86592525,  0.94470051,\n",
       "        -0.25868349, -1.6252501 ,  0.1021856 ,  0.89300263, -1.84300807,\n",
       "        -1.09042529,  0.27584561, -0.63864213, -1.26972573, -1.43467351,\n",
       "        -0.20417269,  1.69605174, -0.90884807,  1.01716252, -2.45279939,\n",
       "         0.99522243,  1.36747121, -1.021148  ,  1.25889662, -1.24972118,\n",
       "         0.14636343, -0.13001853, -0.45235671,  1.73089295,  0.06956859]])"
      ]
     },
     "execution_count": 7,
     "metadata": {},
     "output_type": "execute_result"
    }
   ],
   "source": [
    "make_latent_samples(1, 100) # generates one sample"
   ]
  },
  {
   "cell_type": "markdown",
   "metadata": {},
   "source": [
    "The generator is a simple fully connected neural network with one hidden layer with the leaky ReLU activation.  It takes one latent sample (100 values) and produces 784 (=28x28) data points which represent a digit image."
   ]
  },
  {
   "cell_type": "code",
   "execution_count": 8,
   "metadata": {},
   "outputs": [
    {
     "name": "stdout",
     "output_type": "stream",
     "text": [
      "_________________________________________________________________\n",
      "Layer (type)                 Output Shape              Param #   \n",
      "=================================================================\n",
      "dense_1 (Dense)              (None, 128)               12928     \n",
      "_________________________________________________________________\n",
      "leaky_re_lu_1 (LeakyReLU)    (None, 128)               0         \n",
      "_________________________________________________________________\n",
      "dense_2 (Dense)              (None, 784)               101136    \n",
      "_________________________________________________________________\n",
      "activation_1 (Activation)    (None, 784)               0         \n",
      "=================================================================\n",
      "Total params: 114,064\n",
      "Trainable params: 114,064\n",
      "Non-trainable params: 0\n",
      "_________________________________________________________________\n"
     ]
    }
   ],
   "source": [
    "generator = Sequential([\n",
    "    Dense(128, input_shape=(100,)),\n",
    "    LeakyReLU(alpha=0.01),\n",
    "    Dense(784),\n",
    "    Activation('tanh')\n",
    "], name='generator')\n",
    "\n",
    "generator.summary()"
   ]
  },
  {
   "cell_type": "markdown",
   "metadata": {},
   "source": [
    "The last activation is **tanh**.  According to [[4]](#ref4), this works the best.  It also means that we need to rescale the MNIST images to be between -1 and 1."
   ]
  },
  {
   "cell_type": "markdown",
   "metadata": {},
   "source": [
    "Initially, the generator can only produce garbages.\n",
    "\n",
    "<img src='../images/gan_mnist/generator_bad.png' width='65%'/>\n",
    "\n",
    "As such, the generator needs to learn how to generate realistic hand-written images from the latent sample (randomly generated numbers).\n",
    "\n",
    "How to train this generator?  That is the question tackled by GAN.\n",
    "\n",
    "Before talking about GAN, we shall discuss the discriminator."
   ]
  },
  {
   "cell_type": "markdown",
   "metadata": {},
   "source": [
    "## Discriminator\n",
    "\n",
    "The discriminator takes a digit image and classifies whether an image is real (1) or not (0).  \n",
    "\n",
    "If the input image is from the MNIST database, the discriminator should classify it as real.\n",
    "\n",
    "<img src='../images/gan_mnist/discriminator_real.png' width='50%'/>\n",
    "\n",
    "If the input image is from the generator, the discriminator should classify it as fake.\n",
    "\n",
    "<img src='../images/gan_mnist/discriminator_fake.png' width='50%'/>\n",
    "\n",
    "The discriminator is a simple fully connected neural network with one hidden layer with the leaky ReLU activation."
   ]
  },
  {
   "cell_type": "code",
   "execution_count": 9,
   "metadata": {},
   "outputs": [
    {
     "name": "stdout",
     "output_type": "stream",
     "text": [
      "_________________________________________________________________\n",
      "Layer (type)                 Output Shape              Param #   \n",
      "=================================================================\n",
      "dense_3 (Dense)              (None, 128)               100480    \n",
      "_________________________________________________________________\n",
      "leaky_re_lu_2 (LeakyReLU)    (None, 128)               0         \n",
      "_________________________________________________________________\n",
      "dense_4 (Dense)              (None, 1)                 129       \n",
      "_________________________________________________________________\n",
      "activation_2 (Activation)    (None, 1)                 0         \n",
      "=================================================================\n",
      "Total params: 100,609\n",
      "Trainable params: 100,609\n",
      "Non-trainable params: 0\n",
      "_________________________________________________________________\n"
     ]
    }
   ],
   "source": [
    "discriminator = Sequential([\n",
    "    Dense(128, input_shape=(784,)),\n",
    "    LeakyReLU(alpha=0.01),\n",
    "    Dense(1),\n",
    "    Activation('sigmoid')\n",
    "], name='discriminator')\n",
    "\n",
    "discriminator.summary()"
   ]
  },
  {
   "cell_type": "markdown",
   "metadata": {},
   "source": [
    "The last activation is **sigmoid** to tell us the probability of whether the input image is real or not.\n",
    "\n",
    "We train the discriminator using both the MNIST images and the images generated by the generator."
   ]
  },
  {
   "cell_type": "markdown",
   "metadata": {},
   "source": [
    "## GAN\n",
    "\n",
    "We connect the generator and the discriminator to produce a GAN.  \n",
    "\n",
    "It takes the latent sample, and the generator inside GAN produces a digit image which the discriminator inside GAN classifies as real or fake.\n",
    "\n",
    "<img src='../images/gan_mnist/gan.png' width='70%'/>\n",
    "\n",
    "If the generated digit image is so realistic, the discriminator in the GAN classifies it as real, which is what we want to achieve.\n",
    "\n",
    "We set the discriminator inside the GAN not-trainable, so it is merely evaluating the quality of the generated image.  The label is always 1 (real) so that if the generator fails to produce a realistic digit image, its cost becomes high, and when the back-propagation occurs in GAN, the weights in the generator network gets updated."
   ]
  },
  {
   "cell_type": "code",
   "execution_count": 10,
   "metadata": {},
   "outputs": [
    {
     "name": "stdout",
     "output_type": "stream",
     "text": [
      "_________________________________________________________________\n",
      "Layer (type)                 Output Shape              Param #   \n",
      "=================================================================\n",
      "generator (Sequential)       (None, 784)               114064    \n",
      "_________________________________________________________________\n",
      "discriminator (Sequential)   (None, 1)                 100609    \n",
      "=================================================================\n",
      "Total params: 214,673\n",
      "Trainable params: 214,673\n",
      "Non-trainable params: 0\n",
      "_________________________________________________________________\n"
     ]
    }
   ],
   "source": [
    "# maintain the same shared weights with the generator and the discriminator.\n",
    "gan = Sequential([\n",
    "    generator,\n",
    "    discriminator\n",
    "])\n",
    "\n",
    "gan.summary()"
   ]
  },
  {
   "cell_type": "markdown",
   "metadata": {},
   "source": [
    "As you can see, the GAN internally uses the same generator and the discriminator models.  The GAN maintains the same shared weights with the generator and the disriminator.  Therefore, training the GAN also trains the generator.  However, we do not want the discriminator to be affected while training the GAN.\n",
    "\n",
    "<img src='../images/gan_mnist/generator_discriminator.png' width='90%'/>\n",
    "\n",
    "We train the discriminator and the GAN in turn and repeat the training many times until both are trained well.  \n",
    "\n",
    "<img src='../images/gan_mnist/gan_overview.png' width='90%'/>\n",
    "\n",
    "While training the GAN, the back-propagation should update the weights of the generator but not the discriminator.\n",
    "\n",
    "As such, we need a way to make the discriminator trainable and non-trainable."
   ]
  },
  {
   "cell_type": "code",
   "execution_count": 11,
   "metadata": {
    "collapsed": true
   },
   "outputs": [],
   "source": [
    "def make_trainable(model, trainable):\n",
    "    for layer in model.layers:\n",
    "        layer.trainable = trainable"
   ]
  },
  {
   "cell_type": "code",
   "execution_count": 12,
   "metadata": {},
   "outputs": [
    {
     "name": "stdout",
     "output_type": "stream",
     "text": [
      "_________________________________________________________________\n",
      "Layer (type)                 Output Shape              Param #   \n",
      "=================================================================\n",
      "dense_3 (Dense)              (None, 128)               100480    \n",
      "_________________________________________________________________\n",
      "leaky_re_lu_2 (LeakyReLU)    (None, 128)               0         \n",
      "_________________________________________________________________\n",
      "dense_4 (Dense)              (None, 1)                 129       \n",
      "_________________________________________________________________\n",
      "activation_2 (Activation)    (None, 1)                 0         \n",
      "=================================================================\n",
      "Total params: 100,609\n",
      "Trainable params: 0\n",
      "Non-trainable params: 100,609\n",
      "_________________________________________________________________\n"
     ]
    }
   ],
   "source": [
    "make_trainable(discriminator, False)\n",
    "discriminator.summary()"
   ]
  },
  {
   "cell_type": "code",
   "execution_count": 13,
   "metadata": {},
   "outputs": [
    {
     "name": "stdout",
     "output_type": "stream",
     "text": [
      "_________________________________________________________________\n",
      "Layer (type)                 Output Shape              Param #   \n",
      "=================================================================\n",
      "dense_3 (Dense)              (None, 128)               100480    \n",
      "_________________________________________________________________\n",
      "leaky_re_lu_2 (LeakyReLU)    (None, 128)               0         \n",
      "_________________________________________________________________\n",
      "dense_4 (Dense)              (None, 1)                 129       \n",
      "_________________________________________________________________\n",
      "activation_2 (Activation)    (None, 1)                 0         \n",
      "=================================================================\n",
      "Total params: 100,609\n",
      "Trainable params: 100,609\n",
      "Non-trainable params: 0\n",
      "_________________________________________________________________\n"
     ]
    }
   ],
   "source": [
    "make_trainable(discriminator, True)\n",
    "discriminator.summary()"
   ]
  },
  {
   "cell_type": "markdown",
   "metadata": {},
   "source": [
    "The below function combines everything we have discussed so far to build the generator, discriminator, and GAN models and also compile them for training."
   ]
  },
  {
   "cell_type": "code",
   "execution_count": 14,
   "metadata": {
    "collapsed": true
   },
   "outputs": [],
   "source": [
    "def make_simple_GAN(sample_size, \n",
    "                    g_hidden_size, \n",
    "                    d_hidden_size, \n",
    "                    leaky_alpha, \n",
    "                    g_learning_rate,\n",
    "                    d_learning_rate):\n",
    "    K.clear_session()\n",
    "    \n",
    "    generator = Sequential([\n",
    "        Dense(g_hidden_size, input_shape=(sample_size,)),\n",
    "        LeakyReLU(alpha=leaky_alpha),\n",
    "        Dense(784),        \n",
    "        Activation('tanh')\n",
    "    ], name='generator')    \n",
    "\n",
    "    discriminator = Sequential([\n",
    "        Dense(d_hidden_size, input_shape=(784,)),\n",
    "        LeakyReLU(alpha=leaky_alpha),\n",
    "        Dense(1),\n",
    "        Activation('sigmoid')\n",
    "    ], name='discriminator')    \n",
    "    \n",
    "    gan = Sequential([\n",
    "        generator,\n",
    "        discriminator\n",
    "    ])\n",
    "    \n",
    "    discriminator.compile(optimizer=Adam(lr=d_learning_rate), loss='binary_crossentropy')\n",
    "    gan.compile(optimizer=Adam(lr=g_learning_rate), loss='binary_crossentropy')\n",
    "    \n",
    "    return gan, generator, discriminator "
   ]
  },
  {
   "cell_type": "markdown",
   "metadata": {},
   "source": [
    "## Training GAN\n",
    "\n",
    "### Preprocessing\n",
    "\n",
    "We need to flatten the digit image data as the fully connected input layer expects that.  Also, as the generator uses the **tanh** activation in the output layer, we scale all the MNIST images to have values between -1 and 1."
   ]
  },
  {
   "cell_type": "code",
   "execution_count": 15,
   "metadata": {
    "collapsed": true
   },
   "outputs": [],
   "source": [
    "def preprocess(x):    \n",
    "    x = x.reshape(-1, 784) # 784=28*28\n",
    "    x = np.float64(x)\n",
    "    x = (x / 255 - 0.5) * 2\n",
    "    x = np.clip(x, -1, 1)\n",
    "    return x"
   ]
  },
  {
   "cell_type": "code",
   "execution_count": 16,
   "metadata": {
    "collapsed": true
   },
   "outputs": [],
   "source": [
    "X_train_real = preprocess(X_train)\n",
    "X_test_real  = preprocess(X_test)"
   ]
  },
  {
   "cell_type": "markdown",
   "metadata": {},
   "source": [
    "### Deprocessing\n",
    "\n",
    "We also need a function to reverse the preprocessing so that we can display generated images."
   ]
  },
  {
   "cell_type": "code",
   "execution_count": 17,
   "metadata": {
    "collapsed": true
   },
   "outputs": [],
   "source": [
    "def deprocess(x):\n",
    "    x = (x / 2 + 1) * 255\n",
    "    x = np.clip(x, 0, 255)\n",
    "    x = np.uint8(x)\n",
    "    x = x.reshape(28, 28)\n",
    "    return x"
   ]
  },
  {
   "cell_type": "code",
   "execution_count": 18,
   "metadata": {},
   "outputs": [
    {
     "data": {
      "image/png": "[encoded data removed]",
      "text/plain": [
       "<matplotlib.figure.Figure at 0x7f3787697748>"
      ]
     },
     "metadata": {},
     "output_type": "display_data"
    }
   ],
   "source": [
    "plt.figure(figsize=(5, 4))\n",
    "for i in range(20):\n",
    "    img = deprocess(X_train_real[i])\n",
    "    plt.subplot(4, 5, i+1)\n",
    "    plt.imshow(img, cmap='gray')\n",
    "    plt.xticks([])\n",
    "    plt.yticks([])\n",
    "plt.tight_layout()\n",
    "plt.show()"
   ]
  },
  {
   "cell_type": "markdown",
   "metadata": {},
   "source": [
    "### Labels\n",
    "\n",
    "The labels are 1 (real) or 0 (fake) in 2D shape."
   ]
  },
  {
   "cell_type": "code",
   "execution_count": 19,
   "metadata": {
    "collapsed": true
   },
   "outputs": [],
   "source": [
    "def make_labels(size):\n",
    "    return np.ones([size, 1]), np.zeros([size, 1])"
   ]
  },
  {
   "cell_type": "markdown",
   "metadata": {},
   "source": [
    "The below is 10 sets of real and fake label values."
   ]
  },
  {
   "cell_type": "code",
   "execution_count": 20,
   "metadata": {},
   "outputs": [
    {
     "data": {
      "text/plain": [
       "(array([[ 1.],\n",
       "        [ 1.],\n",
       "        [ 1.],\n",
       "        [ 1.],\n",
       "        [ 1.],\n",
       "        [ 1.],\n",
       "        [ 1.],\n",
       "        [ 1.],\n",
       "        [ 1.],\n",
       "        [ 1.]]), array([[ 0.],\n",
       "        [ 0.],\n",
       "        [ 0.],\n",
       "        [ 0.],\n",
       "        [ 0.],\n",
       "        [ 0.],\n",
       "        [ 0.],\n",
       "        [ 0.],\n",
       "        [ 0.],\n",
       "        [ 0.]]))"
      ]
     },
     "execution_count": 20,
     "metadata": {},
     "output_type": "execute_result"
    }
   ],
   "source": [
    "y_real_10, y_fake_10 = make_labels(10)\n",
    "\n",
    "y_real_10, y_fake_10"
   ]
  },
  {
   "cell_type": "markdown",
   "metadata": {},
   "source": [
    "Later, we prepare the labels for training and evaluation using the train batch size and the test size.  "
   ]
  },
  {
   "cell_type": "markdown",
   "metadata": {},
   "source": [
    "### Label Smoothing\n",
    "\n",
    "One last point before we start training is the label smoothing which makes the discriminator generalize better [[4]](#ref4).\n",
    "\n",
    "For the real digit images, the labels are all 1s.  However, when we train the discriminator, we use a value slightly smaller than 1 with the real digit images.  Otherwise, the discriminator might overfit to the training data and rejects anything else that is slightly different from the training images."
   ]
  },
  {
   "cell_type": "markdown",
   "metadata": {},
   "source": [
    "### Training Loop\n",
    "\n",
    "We repeat the following to make both the discriminator and the generator better and better:\n",
    "\n",
    "* Prepare a batch of real images\n",
    "* Prepare a batch of fake images generated by the generator using latent samples\n",
    "* Make the discriminator trainable\n",
    "* Train the discriminator to classify the real and fake images\n",
    "* Make the discriminator non-trainable\n",
    "* Train the generator via the GAN\n",
    "\n",
    "When training the generator via the GAN, the expect labels are all 1s (real).  Initially, the generator produces not very realistic images so the discriminator classifies them as 0s (fake), which causes the back-propagation to adjust the weights inside the generator.  The discriminator is not affected as we set it non-trainable in this step."
   ]
  },
  {
   "cell_type": "code",
   "execution_count": 21,
   "metadata": {},
   "outputs": [
    {
     "name": "stdout",
     "output_type": "stream",
     "text": [
      "Epoch:   1/100 Discriminator Loss: 0.1528 Generator Loss: 2.0993\n",
      "Epoch:   2/100 Discriminator Loss: 0.1515 Generator Loss: 2.2866\n",
      "Epoch:   3/100 Discriminator Loss: 0.0734 Generator Loss: 2.9308\n",
      "Epoch:   4/100 Discriminator Loss: 0.0237 Generator Loss: 4.1757\n",
      "Epoch:   5/100 Discriminator Loss: 0.0059 Generator Loss: 5.5821\n",
      "Epoch:   6/100 Discriminator Loss: 0.0220 Generator Loss: 4.5243\n",
      "Epoch:   7/100 Discriminator Loss: 0.0998 Generator Loss: 2.6102\n",
      "Epoch:   8/100 Discriminator Loss: 0.0407 Generator Loss: 3.5122\n",
      "Epoch:   9/100 Discriminator Loss: 0.0128 Generator Loss: 4.8266\n",
      "Epoch:  10/100 Discriminator Loss: 0.0033 Generator Loss: 6.8376\n",
      "Epoch:  11/100 Discriminator Loss: 0.4577 Generator Loss: 1.3369\n",
      "Epoch:  12/100 Discriminator Loss: 0.0961 Generator Loss: 2.6503\n",
      "Epoch:  13/100 Discriminator Loss: 0.1546 Generator Loss: 2.2342\n",
      "Epoch:  14/100 Discriminator Loss: 0.1070 Generator Loss: 2.8304\n",
      "Epoch:  15/100 Discriminator Loss: 0.0714 Generator Loss: 2.8605\n",
      "Epoch:  16/100 Discriminator Loss: 0.1273 Generator Loss: 3.0386\n",
      "Epoch:  17/100 Discriminator Loss: 0.0633 Generator Loss: 3.5958\n",
      "Epoch:  18/100 Discriminator Loss: 0.5413 Generator Loss: 1.6831\n",
      "Epoch:  19/100 Discriminator Loss: 0.2388 Generator Loss: 1.9052\n",
      "Epoch:  20/100 Discriminator Loss: 0.1438 Generator Loss: 2.6494\n",
      "Epoch:  21/100 Discriminator Loss: 0.3579 Generator Loss: 1.4933\n",
      "Epoch:  22/100 Discriminator Loss: 0.1246 Generator Loss: 2.6697\n",
      "Epoch:  23/100 Discriminator Loss: 0.2011 Generator Loss: 2.2501\n",
      "Epoch:  24/100 Discriminator Loss: 0.0923 Generator Loss: 3.1679\n",
      "Epoch:  25/100 Discriminator Loss: 0.0687 Generator Loss: 3.6213\n",
      "Epoch:  26/100 Discriminator Loss: 0.2532 Generator Loss: 2.5429\n",
      "Epoch:  27/100 Discriminator Loss: 0.5481 Generator Loss: 1.2961\n",
      "Epoch:  28/100 Discriminator Loss: 0.2439 Generator Loss: 2.1080\n",
      "Epoch:  29/100 Discriminator Loss: 0.2796 Generator Loss: 1.9611\n",
      "Epoch:  30/100 Discriminator Loss: 0.4210 Generator Loss: 1.5310\n",
      "Epoch:  31/100 Discriminator Loss: 0.2122 Generator Loss: 2.5405\n",
      "Epoch:  32/100 Discriminator Loss: 0.2768 Generator Loss: 1.8650\n",
      "Epoch:  33/100 Discriminator Loss: 0.2120 Generator Loss: 2.2331\n",
      "Epoch:  34/100 Discriminator Loss: 0.0435 Generator Loss: 3.7866\n",
      "Epoch:  35/100 Discriminator Loss: 0.0569 Generator Loss: 3.6301\n",
      "Epoch:  36/100 Discriminator Loss: 0.0902 Generator Loss: 3.8002\n",
      "Epoch:  37/100 Discriminator Loss: 0.1450 Generator Loss: 2.4042\n",
      "Epoch:  38/100 Discriminator Loss: 0.0761 Generator Loss: 3.2832\n",
      "Epoch:  39/100 Discriminator Loss: 0.1283 Generator Loss: 2.9896\n",
      "Epoch:  40/100 Discriminator Loss: 0.2811 Generator Loss: 2.3119\n",
      "Epoch:  41/100 Discriminator Loss: 0.1033 Generator Loss: 3.3752\n",
      "Epoch:  42/100 Discriminator Loss: 0.0749 Generator Loss: 3.4265\n",
      "Epoch:  43/100 Discriminator Loss: 0.3501 Generator Loss: 2.3618\n",
      "Epoch:  44/100 Discriminator Loss: 0.2281 Generator Loss: 2.5281\n",
      "Epoch:  45/100 Discriminator Loss: 0.0862 Generator Loss: 3.9121\n",
      "Epoch:  46/100 Discriminator Loss: 0.2584 Generator Loss: 2.3560\n",
      "Epoch:  47/100 Discriminator Loss: 0.2350 Generator Loss: 2.7786\n",
      "Epoch:  48/100 Discriminator Loss: 0.1990 Generator Loss: 2.3664\n",
      "Epoch:  49/100 Discriminator Loss: 0.2650 Generator Loss: 2.9638\n",
      "Epoch:  50/100 Discriminator Loss: 0.1034 Generator Loss: 3.0362\n",
      "Epoch:  51/100 Discriminator Loss: 0.4814 Generator Loss: 1.7123\n",
      "Epoch:  52/100 Discriminator Loss: 0.5056 Generator Loss: 1.6383\n",
      "Epoch:  53/100 Discriminator Loss: 0.2089 Generator Loss: 2.4871\n",
      "Epoch:  54/100 Discriminator Loss: 0.1556 Generator Loss: 2.7252\n",
      "Epoch:  55/100 Discriminator Loss: 0.3111 Generator Loss: 2.1734\n",
      "Epoch:  56/100 Discriminator Loss: 0.2814 Generator Loss: 2.1267\n",
      "Epoch:  57/100 Discriminator Loss: 0.1701 Generator Loss: 2.9728\n",
      "Epoch:  58/100 Discriminator Loss: 0.2869 Generator Loss: 2.3448\n",
      "Epoch:  59/100 Discriminator Loss: 0.2183 Generator Loss: 2.1610\n",
      "Epoch:  60/100 Discriminator Loss: 0.3156 Generator Loss: 2.2011\n",
      "Epoch:  61/100 Discriminator Loss: 0.1638 Generator Loss: 2.4792\n",
      "Epoch:  62/100 Discriminator Loss: 0.1282 Generator Loss: 3.3487\n",
      "Epoch:  63/100 Discriminator Loss: 0.2093 Generator Loss: 2.3355\n",
      "Epoch:  64/100 Discriminator Loss: 0.1655 Generator Loss: 2.9360\n",
      "Epoch:  65/100 Discriminator Loss: 0.1467 Generator Loss: 2.7344\n",
      "Epoch:  66/100 Discriminator Loss: 0.3071 Generator Loss: 2.1888\n",
      "Epoch:  67/100 Discriminator Loss: 0.1934 Generator Loss: 2.3331\n",
      "Epoch:  68/100 Discriminator Loss: 0.2988 Generator Loss: 2.4289\n",
      "Epoch:  69/100 Discriminator Loss: 0.2458 Generator Loss: 2.2288\n",
      "Epoch:  70/100 Discriminator Loss: 0.3804 Generator Loss: 1.9598\n",
      "Epoch:  71/100 Discriminator Loss: 0.1575 Generator Loss: 2.9709\n",
      "Epoch:  72/100 Discriminator Loss: 0.5723 Generator Loss: 1.6735\n",
      "Epoch:  73/100 Discriminator Loss: 0.1988 Generator Loss: 2.7612\n",
      "Epoch:  74/100 Discriminator Loss: 0.1122 Generator Loss: 3.0933\n",
      "Epoch:  75/100 Discriminator Loss: 0.1357 Generator Loss: 3.1173\n",
      "Epoch:  76/100 Discriminator Loss: 0.1762 Generator Loss: 2.3640\n",
      "Epoch:  77/100 Discriminator Loss: 0.1507 Generator Loss: 2.8205\n",
      "Epoch:  78/100 Discriminator Loss: 0.0989 Generator Loss: 3.0023\n",
      "Epoch:  79/100 Discriminator Loss: 0.2729 Generator Loss: 2.4989\n",
      "Epoch:  80/100 Discriminator Loss: 0.0653 Generator Loss: 3.3144\n",
      "Epoch:  81/100 Discriminator Loss: 0.2895 Generator Loss: 2.2632\n",
      "Epoch:  82/100 Discriminator Loss: 0.2518 Generator Loss: 2.3322\n",
      "Epoch:  83/100 Discriminator Loss: 0.1903 Generator Loss: 2.7123\n",
      "Epoch:  84/100 Discriminator Loss: 0.1996 Generator Loss: 2.4800\n",
      "Epoch:  85/100 Discriminator Loss: 0.2088 Generator Loss: 3.0077\n",
      "Epoch:  86/100 Discriminator Loss: 0.2068 Generator Loss: 2.1908\n",
      "Epoch:  87/100 Discriminator Loss: 0.1655 Generator Loss: 2.8202\n",
      "Epoch:  88/100 Discriminator Loss: 0.2162 Generator Loss: 2.2695\n",
      "Epoch:  89/100 Discriminator Loss: 0.1643 Generator Loss: 2.6408\n",
      "Epoch:  90/100 Discriminator Loss: 0.0611 Generator Loss: 3.5536\n",
      "Epoch:  91/100 Discriminator Loss: 0.1522 Generator Loss: 2.8450\n",
      "Epoch:  92/100 Discriminator Loss: 0.1366 Generator Loss: 2.7787\n",
      "Epoch:  93/100 Discriminator Loss: 0.1927 Generator Loss: 2.7597\n",
      "Epoch:  94/100 Discriminator Loss: 0.1782 Generator Loss: 2.4841\n",
      "Epoch:  95/100 Discriminator Loss: 0.1657 Generator Loss: 2.8256\n",
      "Epoch:  96/100 Discriminator Loss: 0.1446 Generator Loss: 3.1513\n",
      "Epoch:  97/100 Discriminator Loss: 0.1050 Generator Loss: 3.2086\n",
      "Epoch:  98/100 Discriminator Loss: 0.1042 Generator Loss: 3.1389\n",
      "Epoch:  99/100 Discriminator Loss: 0.1593 Generator Loss: 2.6690\n",
      "Epoch: 100/100 Discriminator Loss: 0.0792 Generator Loss: 3.4813\n"
     ]
    }
   ],
   "source": [
    "# hyperparameters\n",
    "sample_size     = 100\n",
    "g_hidden_size   = 128\n",
    "d_hidden_size   = 128\n",
    "leaky_alpha     = 0.01\n",
    "g_learning_rate = 0.0001  # slower learning for the generator\n",
    "d_learning_rate = 0.001\n",
    "epochs          = 100\n",
    "batch_size      = 64      # train batch size\n",
    "eval_size       = 16      # evaluate size\n",
    "smooth          = 0.1\n",
    "\n",
    "# labels for the batch size and the test size\n",
    "y_train_real, y_train_fake = make_labels(batch_size)\n",
    "y_eval_real,  y_eval_fake  = make_labels(eval_size)\n",
    "\n",
    "# create a GAN, a generator and a discriminator\n",
    "gan, generator, discriminator = make_simple_GAN(\n",
    "    sample_size, \n",
    "    g_hidden_size, \n",
    "    d_hidden_size, \n",
    "    leaky_alpha, \n",
    "    g_learning_rate,\n",
    "    d_learning_rate)\n",
    "\n",
    "best_diff = None\n",
    "losses = []\n",
    "for e in range(epochs):\n",
    "    for i in range(len(X_train_real)//batch_size):\n",
    "        # real MNIST digit images\n",
    "        X_batch_real = X_train_real[i*batch_size:(i+1)*batch_size]\n",
    "        \n",
    "        # latent samples and the generated digit images\n",
    "        latent_samples = make_latent_samples(batch_size, sample_size)\n",
    "        X_batch_fake = generator.predict_on_batch(latent_samples)\n",
    "        \n",
    "        # train the discriminator to detect real and fake images\n",
    "        make_trainable(discriminator, True)\n",
    "        discriminator.train_on_batch(X_batch_real, y_train_real * (1 - smooth))\n",
    "        discriminator.train_on_batch(X_batch_fake, y_train_fake)\n",
    "\n",
    "        # train the generator via GAN\n",
    "        make_trainable(discriminator, False)\n",
    "        gan.train_on_batch(latent_samples, y_train_real)\n",
    "    \n",
    "    # evaluate\n",
    "    X_eval_real = X_test_real[np.random.choice(len(X_test_real), eval_size, replace=False)]\n",
    "    \n",
    "    latent_samples = make_latent_samples(eval_size, sample_size)\n",
    "    X_eval_fake = generator.predict_on_batch(latent_samples)\n",
    "\n",
    "    d_loss = discriminator.test_on_batch(X_eval_real, y_eval_real)\n",
    "    d_loss = discriminator.test_on_batch(X_eval_fake, y_eval_fake)\n",
    "    g_loss = gan.test_on_batch(latent_samples, y_eval_real) # we want the fake to be realistic!\n",
    "    \n",
    "    losses.append((d_loss, g_loss))\n",
    "    \n",
    "    print(\"Epoch: {:>3}/{} Discriminator Loss: {:>6.4f} Generator Loss: {:>6.4f}\".format(\n",
    "        e+1, epochs, d_loss, g_loss))    "
   ]
  },
  {
   "cell_type": "markdown",
   "metadata": {},
   "source": [
    "### Stabilizing GAN\n",
    "\n",
    "As it turns out, training a GAN is quite hard, and there are many tricks and heuristics required [[4]](#ref4).  It is because the discriminator and the generator are not cooperating and individually learning to predict better.  \n",
    "\n",
    "For example, the generator might learn to fool the discriminator with garbage.   Ideally, the discriminator should learn earlier than the generator so that it can classify images accurately.\n",
    "\n",
    "Therefore, I used different learning rates for the generator and the discriminator.  I wanted to slow down the generator learning so that the discriminator learns to classify well.\n",
    "\n",
    "I am not 100% certain if this is a generally good strategy to use but it does seem to work in this project.\n",
    "\n",
    "As the generator learns more and the loss decreases, the discriminator's loss increases.  I see kind of equilibrium around 80-90 epochs."
   ]
  },
  {
   "cell_type": "code",
   "execution_count": 22,
   "metadata": {},
   "outputs": [
    {
     "data": {
      "image/png": "[encoded data removed]",
      "text/plain": [
       "<matplotlib.figure.Figure at 0x7f37876d4390>"
      ]
     },
     "metadata": {},
     "output_type": "display_data"
    }
   ],
   "source": [
    "losses = np.array(losses)\n",
    "\n",
    "fig, ax = plt.subplots()\n",
    "plt.plot(losses.T[0], label='Discriminator')\n",
    "plt.plot(losses.T[1], label='Generator')\n",
    "plt.title(\"Training Losses\")\n",
    "plt.legend()\n",
    "plt.show()"
   ]
  },
  {
   "cell_type": "markdown",
   "metadata": {},
   "source": [
    "### Tracking Failures\n",
    "\n",
    "According to [[4]](#ref4), \n",
    "\n",
    "* The discriminator loss = 0 means something is wrong\n",
    "* When things are working, the discriminator loss has low variance and goes down over time.\n",
    "* When things are not working, the discriminator loss has huge variance and spiking\n",
    "* If the generator loss steadily decreases, it is fooling the discriminator with garbage.\n",
    "\n",
    "\n",
    "### Don't balance via loss statistics \n",
    "\n",
    "According to [[4]](#ref4), \n",
    "\n",
    "* i.e., don't try to find a (number of G/number of D) schedule to uncollapse training"
   ]
  },
  {
   "cell_type": "markdown",
   "metadata": {},
   "source": [
    "## Testing the Generator\n",
    "\n",
    "Now we generates some digit images using the trained generator."
   ]
  },
  {
   "cell_type": "code",
   "execution_count": 23,
   "metadata": {},
   "outputs": [
    {
     "data": {
      "image/png": "[encoded data removed]",
      "text/plain": [
       "<matplotlib.figure.Figure at 0x7f3787b8df28>"
      ]
     },
     "metadata": {},
     "output_type": "display_data"
    }
   ],
   "source": [
    "latent_samples = make_latent_samples(20, sample_size)\n",
    "generated_digits = generator.predict(latent_samples)\n",
    "\n",
    "plt.figure(figsize=(10, 8))\n",
    "for i in range(20):\n",
    "    img = deprocess(generated_digits[i])\n",
    "    plt.subplot(4, 5, i+1)\n",
    "    plt.imshow(img, cmap='gray')\n",
    "    plt.xticks([])\n",
    "    plt.yticks([])\n",
    "plt.tight_layout()\n",
    "plt.show()"
   ]
  },
  {
   "cell_type": "markdown",
   "metadata": {},
   "source": [
    "The results are not outstanding as we are using simple networks.  Deep Convolutional GAN (aka DCGAN) would produce better results than this."
   ]
  },
  {
   "cell_type": "markdown",
   "metadata": {},
   "source": [
    "## References\n",
    "\n",
    "<a id=\"ref1\"></a>\n",
    "### [1] Generative Adversarial Networks\n",
    " \n",
    "Ian J. Goodfellow, Jean Pouget-Abadie, Mehdi Mirza, Bing Xu, David Warde-Farley, Sherjil Ozair, Aaron Courville, Yoshua Bengio\n",
    "  \n",
    "https://arxiv.org/abs/1406.2661\n",
    " \n",
    "<a id=\"ref2\"></a> \n",
    "### [2] GAN MNIST Example in TensorFlow\n",
    " \n",
    "Udacity\n",
    " \n",
    "https://github.com/udacity/deep-learning/tree/master/gan_mnist\n",
    "\n",
    "<a id=\"ref3\"></a>\n",
    "### [3] MNIST dataset\n",
    " \n",
    "Yann LeCun\n",
    " \n",
    "http://yann.lecun.com/exdb/mnist/\n",
    "\n",
    "<a id=\"ref4\"></a>\n",
    "### [4] How to Train a GAN? Tips and tricks to make GANs work\n",
    "\n",
    "Facebook AI Research: Soumith Chintala, Emily Denton, Martin Arjovsky, Michael Mathieu\n",
    "\n",
    "https://github.com/soumith/ganhacks\n",
    "\n",
    "https://www.youtube.com/watch?v=X1mUN6dD8uE\n"
   ]
  }
 ],
 "metadata": {
  "kernelspec": {
   "display_name": "Python 3",
   "language": "python",
   "name": "python3"
  },
  "language_info": {
   "codemirror_mode": {
    "name": "ipython",
    "version": 3
   },
   "file_extension": ".py",
   "mimetype": "text/x-python",
   "name": "python",
   "nbconvert_exporter": "python",
   "pygments_lexer": "ipython3",
   "version": "3.6.2"
  }
 },
 "nbformat": 4,
 "nbformat_minor": 2
}
